{
  "cells": [
    {
      "cell_type": "code",
      "execution_count": 3,
      "id": "85bdf1a9",
      "metadata": {
        "id": "85bdf1a9"
      },
      "outputs": [],
      "source": [
        "import pandas as pd\n",
        "import numpy as np\n",
        "import matplotlib.pyplot as plt\n",
        "\n",
        "import itertools\n",
        "import os\n",
        "\n",
        "from sklearn.metrics import mean_squared_error\n",
        "from sklearn.preprocessing import MinMaxScaler\n",
        "from sklearn.decomposition import PCA\n",
        "\n",
        "from statsmodels.tsa.arima.model import ARIMA\n",
        "from statsmodels.tsa.statespace.sarimax import SARIMAX"
      ]
    },
    {
      "cell_type": "code",
      "execution_count": 51,
      "id": "19a888e7",
      "metadata": {
        "id": "19a888e7"
      },
      "outputs": [],
      "source": [
        "import tensorflow as tf\n",
        "from tensorflow.keras.layers import Input, LSTM, Flatten, Dense, Dropout, RepeatVector, TimeDistributed, Flatten\n",
        "from tensorflow.keras.models import Sequential"
      ]
    },
    {
      "cell_type": "code",
      "execution_count": 52,
      "id": "e1000893",
      "metadata": {
        "id": "e1000893"
      },
      "outputs": [],
      "source": [
        "path_to_dataset = \"final_dataset.csv\"\n",
        "df = pd.read_csv(path_to_dataset)\n",
        "\n",
        "df['time'] = pd.to_datetime(df['time'], utc = True)\n",
        "df = df.set_index('time')"
      ]
    },
    {
      "cell_type": "markdown",
      "id": "48379df4",
      "metadata": {
        "id": "48379df4"
      },
      "source": [
        "## 1. Feature Engineering"
      ]
    },
    {
      "cell_type": "markdown",
      "id": "15cc1930",
      "metadata": {
        "id": "15cc1930"
      },
      "source": [
        "### 1.1. Feature Generation"
      ]
    },
    {
      "cell_type": "markdown",
      "id": "bdb4d81c",
      "metadata": {
        "id": "bdb4d81c"
      },
      "source": [
        "We decompose time attribute into multiple attributes: hour, weekday, month."
      ]
    },
    {
      "cell_type": "code",
      "execution_count": 53,
      "id": "93560d49",
      "metadata": {
        "id": "93560d49"
      },
      "outputs": [],
      "source": [
        "# Generate 'hour', 'weekday' and 'month' features\n",
        "\n",
        "for row_idx in range(df.shape[0]):\n",
        "    row = df.index[row_idx]\n",
        "\n",
        "    hour = row.hour\n",
        "    weekday = row.weekday()\n",
        "    month = row.month\n",
        "\n",
        "    df.loc[row, 'hour'] = hour\n",
        "    df.loc[row, 'weekday'] = weekday\n",
        "    df.loc[row, 'month'] = month"
      ]
    },
    {
      "cell_type": "markdown",
      "id": "b80e11a1",
      "metadata": {
        "id": "b80e11a1"
      },
      "source": [
        "We generate business_hour attribute from hour attribute should be split into business hour (equal to 1) and other hours (equal to 0).\\\n",
        "We assume work hours are from 8 am to 6 pm. Also, during the weekend, none of the hours is a work hour."
      ]
    },
    {
      "cell_type": "code",
      "execution_count": 54,
      "id": "ce4cf176",
      "metadata": {
        "id": "ce4cf176"
      },
      "outputs": [],
      "source": [
        "# Generate 'weekend' feature\n",
        "\n",
        "for row_idx in range(df.shape[0]):\n",
        "    row = df.index[row_idx]\n",
        "\n",
        "    weekday = row.weekday()\n",
        "\n",
        "    if (weekday == 6):\n",
        "        df.loc[row, 'weekday'] = 2\n",
        "    elif (weekday == 5):\n",
        "        df.loc[row, 'weekday'] = 1\n",
        "    else:\n",
        "        df.loc[row, 'weekday'] = 0"
      ]
    },
    {
      "cell_type": "code",
      "execution_count": 55,
      "id": "69082f8d",
      "metadata": {
        "id": "69082f8d"
      },
      "outputs": [],
      "source": [
        "# Generate 'business hour' feature\n",
        "\n",
        "for row_idx in range(df.shape[0]):\n",
        "    row = df.index[row_idx]\n",
        "\n",
        "    weekday = row.weekday()\n",
        "    hour = row.hour\n",
        "\n",
        "    if (0 <= weekday <= 4 and 8 < hour < 18):\n",
        "        df.loc[row, 'business hour'] = 1\n",
        "    else:\n",
        "        df.loc[row, 'business hour'] = 0"
      ]
    },
    {
      "cell_type": "markdown",
      "id": "246e1723",
      "metadata": {
        "id": "246e1723"
      },
      "source": [
        "### 1.2. Feature Selection"
      ]
    },
    {
      "cell_type": "code",
      "execution_count": 56,
      "id": "294ee083",
      "metadata": {
        "id": "294ee083"
      },
      "outputs": [],
      "source": [
        "X = df[df.columns.drop('price actual')].values\n",
        "y = df['price actual'].values\n",
        "\n",
        "y = y.reshape(-1, 1)"
      ]
    },
    {
      "cell_type": "code",
      "execution_count": 57,
      "id": "dfc4b60c",
      "metadata": {
        "id": "dfc4b60c"
      },
      "outputs": [],
      "source": [
        "# Determine the train, validation, and test indices\n",
        "n = df.shape[0]\n",
        "\n",
        "train_end_idx = int(n * 0.7)        # 70% training\n",
        "val_end_idx = int(n * 0.85)         # 15% validation, and the reamining 15% is for testing"
      ]
    },
    {
      "cell_type": "markdown",
      "id": "27e0546c",
      "metadata": {
        "id": "27e0546c"
      },
      "source": [
        "The attributes have different units. We will use MinMax scaling to bring them to the same scale.\\\n",
        "The MinMaxScaler should be fit on the training data and the whole dataset should be transformed"
      ]
    },
    {
      "cell_type": "code",
      "execution_count": 58,
      "id": "04e7aec7",
      "metadata": {
        "colab": {
          "base_uri": "https://localhost:8080/",
          "height": 80
        },
        "id": "04e7aec7",
        "outputId": "61405562-8d7f-4ad2-9b7e-5a00e2a3d298"
      },
      "outputs": [
        {
          "output_type": "execute_result",
          "data": {
            "text/plain": [
              "MinMaxScaler()"
            ],
            "text/html": [
              "<style>#sk-container-id-2 {\n",
              "  /* Definition of color scheme common for light and dark mode */\n",
              "  --sklearn-color-text: #000;\n",
              "  --sklearn-color-text-muted: #666;\n",
              "  --sklearn-color-line: gray;\n",
              "  /* Definition of color scheme for unfitted estimators */\n",
              "  --sklearn-color-unfitted-level-0: #fff5e6;\n",
              "  --sklearn-color-unfitted-level-1: #f6e4d2;\n",
              "  --sklearn-color-unfitted-level-2: #ffe0b3;\n",
              "  --sklearn-color-unfitted-level-3: chocolate;\n",
              "  /* Definition of color scheme for fitted estimators */\n",
              "  --sklearn-color-fitted-level-0: #f0f8ff;\n",
              "  --sklearn-color-fitted-level-1: #d4ebff;\n",
              "  --sklearn-color-fitted-level-2: #b3dbfd;\n",
              "  --sklearn-color-fitted-level-3: cornflowerblue;\n",
              "\n",
              "  /* Specific color for light theme */\n",
              "  --sklearn-color-text-on-default-background: var(--sg-text-color, var(--theme-code-foreground, var(--jp-content-font-color1, black)));\n",
              "  --sklearn-color-background: var(--sg-background-color, var(--theme-background, var(--jp-layout-color0, white)));\n",
              "  --sklearn-color-border-box: var(--sg-text-color, var(--theme-code-foreground, var(--jp-content-font-color1, black)));\n",
              "  --sklearn-color-icon: #696969;\n",
              "\n",
              "  @media (prefers-color-scheme: dark) {\n",
              "    /* Redefinition of color scheme for dark theme */\n",
              "    --sklearn-color-text-on-default-background: var(--sg-text-color, var(--theme-code-foreground, var(--jp-content-font-color1, white)));\n",
              "    --sklearn-color-background: var(--sg-background-color, var(--theme-background, var(--jp-layout-color0, #111)));\n",
              "    --sklearn-color-border-box: var(--sg-text-color, var(--theme-code-foreground, var(--jp-content-font-color1, white)));\n",
              "    --sklearn-color-icon: #878787;\n",
              "  }\n",
              "}\n",
              "\n",
              "#sk-container-id-2 {\n",
              "  color: var(--sklearn-color-text);\n",
              "}\n",
              "\n",
              "#sk-container-id-2 pre {\n",
              "  padding: 0;\n",
              "}\n",
              "\n",
              "#sk-container-id-2 input.sk-hidden--visually {\n",
              "  border: 0;\n",
              "  clip: rect(1px 1px 1px 1px);\n",
              "  clip: rect(1px, 1px, 1px, 1px);\n",
              "  height: 1px;\n",
              "  margin: -1px;\n",
              "  overflow: hidden;\n",
              "  padding: 0;\n",
              "  position: absolute;\n",
              "  width: 1px;\n",
              "}\n",
              "\n",
              "#sk-container-id-2 div.sk-dashed-wrapped {\n",
              "  border: 1px dashed var(--sklearn-color-line);\n",
              "  margin: 0 0.4em 0.5em 0.4em;\n",
              "  box-sizing: border-box;\n",
              "  padding-bottom: 0.4em;\n",
              "  background-color: var(--sklearn-color-background);\n",
              "}\n",
              "\n",
              "#sk-container-id-2 div.sk-container {\n",
              "  /* jupyter's `normalize.less` sets `[hidden] { display: none; }`\n",
              "     but bootstrap.min.css set `[hidden] { display: none !important; }`\n",
              "     so we also need the `!important` here to be able to override the\n",
              "     default hidden behavior on the sphinx rendered scikit-learn.org.\n",
              "     See: https://github.com/scikit-learn/scikit-learn/issues/21755 */\n",
              "  display: inline-block !important;\n",
              "  position: relative;\n",
              "}\n",
              "\n",
              "#sk-container-id-2 div.sk-text-repr-fallback {\n",
              "  display: none;\n",
              "}\n",
              "\n",
              "div.sk-parallel-item,\n",
              "div.sk-serial,\n",
              "div.sk-item {\n",
              "  /* draw centered vertical line to link estimators */\n",
              "  background-image: linear-gradient(var(--sklearn-color-text-on-default-background), var(--sklearn-color-text-on-default-background));\n",
              "  background-size: 2px 100%;\n",
              "  background-repeat: no-repeat;\n",
              "  background-position: center center;\n",
              "}\n",
              "\n",
              "/* Parallel-specific style estimator block */\n",
              "\n",
              "#sk-container-id-2 div.sk-parallel-item::after {\n",
              "  content: \"\";\n",
              "  width: 100%;\n",
              "  border-bottom: 2px solid var(--sklearn-color-text-on-default-background);\n",
              "  flex-grow: 1;\n",
              "}\n",
              "\n",
              "#sk-container-id-2 div.sk-parallel {\n",
              "  display: flex;\n",
              "  align-items: stretch;\n",
              "  justify-content: center;\n",
              "  background-color: var(--sklearn-color-background);\n",
              "  position: relative;\n",
              "}\n",
              "\n",
              "#sk-container-id-2 div.sk-parallel-item {\n",
              "  display: flex;\n",
              "  flex-direction: column;\n",
              "}\n",
              "\n",
              "#sk-container-id-2 div.sk-parallel-item:first-child::after {\n",
              "  align-self: flex-end;\n",
              "  width: 50%;\n",
              "}\n",
              "\n",
              "#sk-container-id-2 div.sk-parallel-item:last-child::after {\n",
              "  align-self: flex-start;\n",
              "  width: 50%;\n",
              "}\n",
              "\n",
              "#sk-container-id-2 div.sk-parallel-item:only-child::after {\n",
              "  width: 0;\n",
              "}\n",
              "\n",
              "/* Serial-specific style estimator block */\n",
              "\n",
              "#sk-container-id-2 div.sk-serial {\n",
              "  display: flex;\n",
              "  flex-direction: column;\n",
              "  align-items: center;\n",
              "  background-color: var(--sklearn-color-background);\n",
              "  padding-right: 1em;\n",
              "  padding-left: 1em;\n",
              "}\n",
              "\n",
              "\n",
              "/* Toggleable style: style used for estimator/Pipeline/ColumnTransformer box that is\n",
              "clickable and can be expanded/collapsed.\n",
              "- Pipeline and ColumnTransformer use this feature and define the default style\n",
              "- Estimators will overwrite some part of the style using the `sk-estimator` class\n",
              "*/\n",
              "\n",
              "/* Pipeline and ColumnTransformer style (default) */\n",
              "\n",
              "#sk-container-id-2 div.sk-toggleable {\n",
              "  /* Default theme specific background. It is overwritten whether we have a\n",
              "  specific estimator or a Pipeline/ColumnTransformer */\n",
              "  background-color: var(--sklearn-color-background);\n",
              "}\n",
              "\n",
              "/* Toggleable label */\n",
              "#sk-container-id-2 label.sk-toggleable__label {\n",
              "  cursor: pointer;\n",
              "  display: flex;\n",
              "  width: 100%;\n",
              "  margin-bottom: 0;\n",
              "  padding: 0.5em;\n",
              "  box-sizing: border-box;\n",
              "  text-align: center;\n",
              "  align-items: start;\n",
              "  justify-content: space-between;\n",
              "  gap: 0.5em;\n",
              "}\n",
              "\n",
              "#sk-container-id-2 label.sk-toggleable__label .caption {\n",
              "  font-size: 0.6rem;\n",
              "  font-weight: lighter;\n",
              "  color: var(--sklearn-color-text-muted);\n",
              "}\n",
              "\n",
              "#sk-container-id-2 label.sk-toggleable__label-arrow:before {\n",
              "  /* Arrow on the left of the label */\n",
              "  content: \"▸\";\n",
              "  float: left;\n",
              "  margin-right: 0.25em;\n",
              "  color: var(--sklearn-color-icon);\n",
              "}\n",
              "\n",
              "#sk-container-id-2 label.sk-toggleable__label-arrow:hover:before {\n",
              "  color: var(--sklearn-color-text);\n",
              "}\n",
              "\n",
              "/* Toggleable content - dropdown */\n",
              "\n",
              "#sk-container-id-2 div.sk-toggleable__content {\n",
              "  max-height: 0;\n",
              "  max-width: 0;\n",
              "  overflow: hidden;\n",
              "  text-align: left;\n",
              "  /* unfitted */\n",
              "  background-color: var(--sklearn-color-unfitted-level-0);\n",
              "}\n",
              "\n",
              "#sk-container-id-2 div.sk-toggleable__content.fitted {\n",
              "  /* fitted */\n",
              "  background-color: var(--sklearn-color-fitted-level-0);\n",
              "}\n",
              "\n",
              "#sk-container-id-2 div.sk-toggleable__content pre {\n",
              "  margin: 0.2em;\n",
              "  border-radius: 0.25em;\n",
              "  color: var(--sklearn-color-text);\n",
              "  /* unfitted */\n",
              "  background-color: var(--sklearn-color-unfitted-level-0);\n",
              "}\n",
              "\n",
              "#sk-container-id-2 div.sk-toggleable__content.fitted pre {\n",
              "  /* unfitted */\n",
              "  background-color: var(--sklearn-color-fitted-level-0);\n",
              "}\n",
              "\n",
              "#sk-container-id-2 input.sk-toggleable__control:checked~div.sk-toggleable__content {\n",
              "  /* Expand drop-down */\n",
              "  max-height: 200px;\n",
              "  max-width: 100%;\n",
              "  overflow: auto;\n",
              "}\n",
              "\n",
              "#sk-container-id-2 input.sk-toggleable__control:checked~label.sk-toggleable__label-arrow:before {\n",
              "  content: \"▾\";\n",
              "}\n",
              "\n",
              "/* Pipeline/ColumnTransformer-specific style */\n",
              "\n",
              "#sk-container-id-2 div.sk-label input.sk-toggleable__control:checked~label.sk-toggleable__label {\n",
              "  color: var(--sklearn-color-text);\n",
              "  background-color: var(--sklearn-color-unfitted-level-2);\n",
              "}\n",
              "\n",
              "#sk-container-id-2 div.sk-label.fitted input.sk-toggleable__control:checked~label.sk-toggleable__label {\n",
              "  background-color: var(--sklearn-color-fitted-level-2);\n",
              "}\n",
              "\n",
              "/* Estimator-specific style */\n",
              "\n",
              "/* Colorize estimator box */\n",
              "#sk-container-id-2 div.sk-estimator input.sk-toggleable__control:checked~label.sk-toggleable__label {\n",
              "  /* unfitted */\n",
              "  background-color: var(--sklearn-color-unfitted-level-2);\n",
              "}\n",
              "\n",
              "#sk-container-id-2 div.sk-estimator.fitted input.sk-toggleable__control:checked~label.sk-toggleable__label {\n",
              "  /* fitted */\n",
              "  background-color: var(--sklearn-color-fitted-level-2);\n",
              "}\n",
              "\n",
              "#sk-container-id-2 div.sk-label label.sk-toggleable__label,\n",
              "#sk-container-id-2 div.sk-label label {\n",
              "  /* The background is the default theme color */\n",
              "  color: var(--sklearn-color-text-on-default-background);\n",
              "}\n",
              "\n",
              "/* On hover, darken the color of the background */\n",
              "#sk-container-id-2 div.sk-label:hover label.sk-toggleable__label {\n",
              "  color: var(--sklearn-color-text);\n",
              "  background-color: var(--sklearn-color-unfitted-level-2);\n",
              "}\n",
              "\n",
              "/* Label box, darken color on hover, fitted */\n",
              "#sk-container-id-2 div.sk-label.fitted:hover label.sk-toggleable__label.fitted {\n",
              "  color: var(--sklearn-color-text);\n",
              "  background-color: var(--sklearn-color-fitted-level-2);\n",
              "}\n",
              "\n",
              "/* Estimator label */\n",
              "\n",
              "#sk-container-id-2 div.sk-label label {\n",
              "  font-family: monospace;\n",
              "  font-weight: bold;\n",
              "  display: inline-block;\n",
              "  line-height: 1.2em;\n",
              "}\n",
              "\n",
              "#sk-container-id-2 div.sk-label-container {\n",
              "  text-align: center;\n",
              "}\n",
              "\n",
              "/* Estimator-specific */\n",
              "#sk-container-id-2 div.sk-estimator {\n",
              "  font-family: monospace;\n",
              "  border: 1px dotted var(--sklearn-color-border-box);\n",
              "  border-radius: 0.25em;\n",
              "  box-sizing: border-box;\n",
              "  margin-bottom: 0.5em;\n",
              "  /* unfitted */\n",
              "  background-color: var(--sklearn-color-unfitted-level-0);\n",
              "}\n",
              "\n",
              "#sk-container-id-2 div.sk-estimator.fitted {\n",
              "  /* fitted */\n",
              "  background-color: var(--sklearn-color-fitted-level-0);\n",
              "}\n",
              "\n",
              "/* on hover */\n",
              "#sk-container-id-2 div.sk-estimator:hover {\n",
              "  /* unfitted */\n",
              "  background-color: var(--sklearn-color-unfitted-level-2);\n",
              "}\n",
              "\n",
              "#sk-container-id-2 div.sk-estimator.fitted:hover {\n",
              "  /* fitted */\n",
              "  background-color: var(--sklearn-color-fitted-level-2);\n",
              "}\n",
              "\n",
              "/* Specification for estimator info (e.g. \"i\" and \"?\") */\n",
              "\n",
              "/* Common style for \"i\" and \"?\" */\n",
              "\n",
              ".sk-estimator-doc-link,\n",
              "a:link.sk-estimator-doc-link,\n",
              "a:visited.sk-estimator-doc-link {\n",
              "  float: right;\n",
              "  font-size: smaller;\n",
              "  line-height: 1em;\n",
              "  font-family: monospace;\n",
              "  background-color: var(--sklearn-color-background);\n",
              "  border-radius: 1em;\n",
              "  height: 1em;\n",
              "  width: 1em;\n",
              "  text-decoration: none !important;\n",
              "  margin-left: 0.5em;\n",
              "  text-align: center;\n",
              "  /* unfitted */\n",
              "  border: var(--sklearn-color-unfitted-level-1) 1pt solid;\n",
              "  color: var(--sklearn-color-unfitted-level-1);\n",
              "}\n",
              "\n",
              ".sk-estimator-doc-link.fitted,\n",
              "a:link.sk-estimator-doc-link.fitted,\n",
              "a:visited.sk-estimator-doc-link.fitted {\n",
              "  /* fitted */\n",
              "  border: var(--sklearn-color-fitted-level-1) 1pt solid;\n",
              "  color: var(--sklearn-color-fitted-level-1);\n",
              "}\n",
              "\n",
              "/* On hover */\n",
              "div.sk-estimator:hover .sk-estimator-doc-link:hover,\n",
              ".sk-estimator-doc-link:hover,\n",
              "div.sk-label-container:hover .sk-estimator-doc-link:hover,\n",
              ".sk-estimator-doc-link:hover {\n",
              "  /* unfitted */\n",
              "  background-color: var(--sklearn-color-unfitted-level-3);\n",
              "  color: var(--sklearn-color-background);\n",
              "  text-decoration: none;\n",
              "}\n",
              "\n",
              "div.sk-estimator.fitted:hover .sk-estimator-doc-link.fitted:hover,\n",
              ".sk-estimator-doc-link.fitted:hover,\n",
              "div.sk-label-container:hover .sk-estimator-doc-link.fitted:hover,\n",
              ".sk-estimator-doc-link.fitted:hover {\n",
              "  /* fitted */\n",
              "  background-color: var(--sklearn-color-fitted-level-3);\n",
              "  color: var(--sklearn-color-background);\n",
              "  text-decoration: none;\n",
              "}\n",
              "\n",
              "/* Span, style for the box shown on hovering the info icon */\n",
              ".sk-estimator-doc-link span {\n",
              "  display: none;\n",
              "  z-index: 9999;\n",
              "  position: relative;\n",
              "  font-weight: normal;\n",
              "  right: .2ex;\n",
              "  padding: .5ex;\n",
              "  margin: .5ex;\n",
              "  width: min-content;\n",
              "  min-width: 20ex;\n",
              "  max-width: 50ex;\n",
              "  color: var(--sklearn-color-text);\n",
              "  box-shadow: 2pt 2pt 4pt #999;\n",
              "  /* unfitted */\n",
              "  background: var(--sklearn-color-unfitted-level-0);\n",
              "  border: .5pt solid var(--sklearn-color-unfitted-level-3);\n",
              "}\n",
              "\n",
              ".sk-estimator-doc-link.fitted span {\n",
              "  /* fitted */\n",
              "  background: var(--sklearn-color-fitted-level-0);\n",
              "  border: var(--sklearn-color-fitted-level-3);\n",
              "}\n",
              "\n",
              ".sk-estimator-doc-link:hover span {\n",
              "  display: block;\n",
              "}\n",
              "\n",
              "/* \"?\"-specific style due to the `<a>` HTML tag */\n",
              "\n",
              "#sk-container-id-2 a.estimator_doc_link {\n",
              "  float: right;\n",
              "  font-size: 1rem;\n",
              "  line-height: 1em;\n",
              "  font-family: monospace;\n",
              "  background-color: var(--sklearn-color-background);\n",
              "  border-radius: 1rem;\n",
              "  height: 1rem;\n",
              "  width: 1rem;\n",
              "  text-decoration: none;\n",
              "  /* unfitted */\n",
              "  color: var(--sklearn-color-unfitted-level-1);\n",
              "  border: var(--sklearn-color-unfitted-level-1) 1pt solid;\n",
              "}\n",
              "\n",
              "#sk-container-id-2 a.estimator_doc_link.fitted {\n",
              "  /* fitted */\n",
              "  border: var(--sklearn-color-fitted-level-1) 1pt solid;\n",
              "  color: var(--sklearn-color-fitted-level-1);\n",
              "}\n",
              "\n",
              "/* On hover */\n",
              "#sk-container-id-2 a.estimator_doc_link:hover {\n",
              "  /* unfitted */\n",
              "  background-color: var(--sklearn-color-unfitted-level-3);\n",
              "  color: var(--sklearn-color-background);\n",
              "  text-decoration: none;\n",
              "}\n",
              "\n",
              "#sk-container-id-2 a.estimator_doc_link.fitted:hover {\n",
              "  /* fitted */\n",
              "  background-color: var(--sklearn-color-fitted-level-3);\n",
              "}\n",
              "</style><div id=\"sk-container-id-2\" class=\"sk-top-container\"><div class=\"sk-text-repr-fallback\"><pre>MinMaxScaler()</pre><b>In a Jupyter environment, please rerun this cell to show the HTML representation or trust the notebook. <br />On GitHub, the HTML representation is unable to render, please try loading this page with nbviewer.org.</b></div><div class=\"sk-container\" hidden><div class=\"sk-item\"><div class=\"sk-estimator fitted sk-toggleable\"><input class=\"sk-toggleable__control sk-hidden--visually\" id=\"sk-estimator-id-2\" type=\"checkbox\" checked><label for=\"sk-estimator-id-2\" class=\"sk-toggleable__label fitted sk-toggleable__label-arrow\"><div><div>MinMaxScaler</div></div><div><a class=\"sk-estimator-doc-link fitted\" rel=\"noreferrer\" target=\"_blank\" href=\"https://scikit-learn.org/1.6/modules/generated/sklearn.preprocessing.MinMaxScaler.html\">?<span>Documentation for MinMaxScaler</span></a><span class=\"sk-estimator-doc-link fitted\">i<span>Fitted</span></span></div></label><div class=\"sk-toggleable__content fitted\"><pre>MinMaxScaler()</pre></div> </div></div></div></div>"
            ]
          },
          "metadata": {},
          "execution_count": 58
        }
      ],
      "source": [
        "scaler_X = MinMaxScaler(feature_range = (0, 1)) # the attributes will have valuies between 0 and 1\n",
        "scaler_y = MinMaxScaler(feature_range = (0, 1))\n",
        "\n",
        "# Fit MinMaxScaler on the training data\n",
        "scaler_X.fit(X[:train_end_idx])\n",
        "scaler_y.fit(y[:train_end_idx])"
      ]
    },
    {
      "cell_type": "code",
      "execution_count": 59,
      "id": "59bd28f4",
      "metadata": {
        "id": "59bd28f4"
      },
      "outputs": [],
      "source": [
        "# Transform the dataset using MinMaxScaler after it was fit on the training data\n",
        "X_norm = scaler_X.transform(X)\n",
        "y_norm = scaler_y.transform(y)"
      ]
    },
    {
      "cell_type": "markdown",
      "id": "c5fa8c36",
      "metadata": {
        "id": "c5fa8c36"
      },
      "source": [
        "Next, we use PCA to reduce the dimension of the dataset"
      ]
    },
    {
      "cell_type": "code",
      "execution_count": 60,
      "id": "a91bdc4d",
      "metadata": {
        "id": "a91bdc4d"
      },
      "outputs": [],
      "source": [
        "# Apply PCA\n",
        "pca = PCA(n_components = 0.95)  # keep enough components to explain 95% of variance\n",
        "X_pca = pca.fit_transform(X_norm)"
      ]
    },
    {
      "cell_type": "code",
      "execution_count": 61,
      "id": "64d76f4e",
      "metadata": {
        "id": "64d76f4e"
      },
      "outputs": [],
      "source": [
        "df = np.concatenate((X_pca, y_norm), axis = 1) # This is the updated df, post-Scaling and post-Scaling"
      ]
    },
    {
      "cell_type": "code",
      "execution_count": 62,
      "id": "72b2b43f",
      "metadata": {
        "id": "72b2b43f"
      },
      "outputs": [],
      "source": [
        "history_size = 24 # This parameter will be used later in the forecasting models\n",
        "\n",
        "def X_y_split(df: np.ndarray, target: np.ndarray, start_idx: int, end_idx: int, history_size: int = history_size):\n",
        "    \"\"\"\n",
        "    Creates time series data samples (X) and labels (y) for supervised learning.\n",
        "\n",
        "    Parameters:\n",
        "        df (pd.DataFrame): Feature data (all variables).\n",
        "        target (pd.DataFrame): Target variable to predict.\n",
        "        start_idx (int): Starting index for data extraction.\n",
        "        end_idx (int): Ending index (exclusive) for data extraction.\n",
        "        history_size (int): Number of past time steps to use as input.\n",
        "\n",
        "    Returns:\n",
        "        X (np.ndarray): Array of shape (num_samples, history_size, num_features).\n",
        "        y (np.ndarray): Array of shape (num_samples,), target values aligned with X.\n",
        "    \"\"\"\n",
        "    X, y = [], []\n",
        "\n",
        "    # Shift start index to ensure enough history exists for the first sample\n",
        "    start_idx = start_idx + history_size\n",
        "\n",
        "    for i in range(start_idx, end_idx):\n",
        "        # Indices for the history window (from i-history_size to i-1)\n",
        "        indices = range(i - history_size, i)\n",
        "\n",
        "        # Extract feature data for these indices\n",
        "        X.append(df[indices])   # Note: X contains values of y[i - history_size: i], the i-th is not included\n",
        "\n",
        "        # Target value is at current time step i\n",
        "        y.append(target[i])\n",
        "\n",
        "    return np.array(X), np.array(y)"
      ]
    },
    {
      "cell_type": "code",
      "execution_count": 63,
      "id": "3aeda08d",
      "metadata": {
        "id": "3aeda08d"
      },
      "outputs": [],
      "source": [
        "# Split the data into train, validate and test\n",
        "X_train, y_train = X_y_split(df = df, target = df[:, -1], start_idx = 0, end_idx = train_end_idx)\n",
        "\n",
        "X_val, y_val = X_y_split(df = df, target = df[:, -1], start_idx = train_end_idx, end_idx = val_end_idx)\n",
        "\n",
        "X_test, y_test = X_y_split(df = df, target = df[:, -1], start_idx = val_end_idx, end_idx = df.shape[0])"
      ]
    },
    {
      "cell_type": "markdown",
      "id": "f211fb60",
      "metadata": {
        "id": "f211fb60"
      },
      "source": [
        "Now we set some parameters that will be needed when training ML models using Tensorflow"
      ]
    },
    {
      "cell_type": "code",
      "execution_count": 6,
      "id": "f5324517",
      "metadata": {
        "id": "f5324517"
      },
      "outputs": [],
      "source": [
        "models_path = \"./models\"\n",
        "\n",
        "batch_size = 32\n",
        "buffer_size = 1000\n",
        "\n",
        "n_epochs = 100"
      ]
    },
    {
      "cell_type": "code",
      "execution_count": 65,
      "id": "f9d65ac9",
      "metadata": {
        "id": "f9d65ac9"
      },
      "outputs": [],
      "source": [
        "tf_training_data = tf.data.Dataset.from_tensor_slices((X_train, y_train))\n",
        "tf_training_data = tf_training_data.cache().shuffle(buffer_size).batch(batch_size).prefetch(1)\n",
        "\n",
        "tf_validation_data = tf.data.Dataset.from_tensor_slices((X_val, y_val))\n",
        "tf_validation_data = tf_validation_data.batch(batch_size).prefetch(1)"
      ]
    },
    {
      "cell_type": "code",
      "execution_count": 66,
      "id": "968fb703",
      "metadata": {
        "id": "968fb703"
      },
      "outputs": [],
      "source": [
        "y_test = y_test.reshape(-1, 1)\n",
        "y_test_inv = scaler_y.inverse_transform(y_test) # this is the inverse tranform not the inverse of vector y"
      ]
    },
    {
      "cell_type": "code",
      "execution_count": 67,
      "id": "968018b9",
      "metadata": {
        "id": "968018b9"
      },
      "outputs": [],
      "source": [
        "# Define some common parameters\n",
        "input_shape = X_train.shape[-2:]\n",
        "\n",
        "loss = tf.keras.losses.MeanSquaredError()\n",
        "metric = [tf.keras.metrics.RootMeanSquaredError()]\n",
        "lr_schedule = tf.keras.callbacks.LearningRateScheduler(lambda epoch: 1e-4 * 10**(epoch / 10))\n",
        "early_stopping = tf.keras.callbacks.EarlyStopping(patience = 10)"
      ]
    },
    {
      "cell_type": "markdown",
      "id": "03cf1f6f",
      "metadata": {
        "id": "03cf1f6f"
      },
      "source": [
        "## 2. Electricity Price Forecasting"
      ]
    },
    {
      "cell_type": "markdown",
      "id": "1223f141",
      "metadata": {
        "id": "1223f141"
      },
      "source": [
        "### 2.1 ARIMA (AutoRegressive Integrated Moving Average)"
      ]
    },
    {
      "cell_type": "code",
      "source": [
        "# Combine train+val for model selection\n",
        "y_train_val = np.concatenate([y_train, y_val])\n",
        "\n",
        "# Define parameter ranges\n",
        "p = d = q = range(0, 3)   # adjust if needed\n",
        "P = D = Q = range(0, 2)   # seasonal params\n",
        "m = 24                   # seasonal period length; 24 for hourly patterns - 365 for yearly patterns (require more compute resources)\n",
        "\n",
        "# Generate all combinations of p,d,q and seasonal P,D,Q\n",
        "pdq = list(itertools.product(p, d, q))\n",
        "seasonal_pdq = list(itertools.product(P, D, Q, [m]))\n",
        "\n",
        "best_score, best_cfg = float(\"inf\"), None\n",
        "\n",
        "for order in pdq:\n",
        "    for seasonal_order in seasonal_pdq:\n",
        "        try:\n",
        "            model = SARIMAX(y_train_val, order = order, seasonal_order = seasonal_order, enforce_stationarity = False, enforce_invertibility = False)\n",
        "\n",
        "            model_fit = model.fit(disp = False)\n",
        "\n",
        "            # Forecast the next len(y_test) steps\n",
        "            forecast = model_fit.forecast(steps = len(y_test))\n",
        "            sarimax_forecast = forecast.reshape(-1, 1)\n",
        "\n",
        "            # Inverse transform predictions back to original scale\n",
        "            sarimax_forecast_inv = scaler_y.inverse_transform(sarimax_forecast)\n",
        "\n",
        "            # Compute RMSE\n",
        "            rmse_sarimax = np.sqrt(mean_squared_error(y_test_inv, sarimax_forecast_inv))\n",
        "\n",
        "            if rmse_sarimax < best_score:\n",
        "                best_score, best_cfg = rmse_sarimax, (order, seasonal_order)\n",
        "\n",
        "            print(f\"SARIMA{order}x{seasonal_order} - RMSE of hour-ahead electricity price ARIMA forecast: {rmse_sarimax:.3f}\")\n",
        "\n",
        "        except:\n",
        "            continue\n",
        "\n",
        "print(f\"Best SARIMA{best_cfg[0]}x{best_cfg[1]} - RMSE: {best_score:.3f}\")"
      ],
      "metadata": {
        "colab": {
          "base_uri": "https://localhost:8080/"
        },
        "id": "qc_cchd7sScM",
        "outputId": "2c82f34a-3310-44e4-d883-fbbb7b7f09a2"
      },
      "id": "qc_cchd7sScM",
      "execution_count": null,
      "outputs": [
        {
          "output_type": "stream",
          "name": "stdout",
          "text": [
            "SARIMA(0, 0, 0)x(0, 0, 0, 24) - RMSE of hour-ahead electricity price ARIMA forecast: 60.259\n",
            "SARIMA(0, 0, 0)x(0, 0, 1, 24) - RMSE of hour-ahead electricity price ARIMA forecast: 60.164\n",
            "SARIMA(0, 0, 0)x(0, 1, 0, 24) - RMSE of hour-ahead electricity price ARIMA forecast: 8.802\n",
            "SARIMA(0, 0, 0)x(0, 1, 1, 24) - RMSE of hour-ahead electricity price ARIMA forecast: 8.383\n",
            "SARIMA(0, 0, 0)x(1, 0, 0, 24) - RMSE of hour-ahead electricity price ARIMA forecast: 43.703\n",
            "SARIMA(0, 0, 0)x(1, 0, 1, 24) - RMSE of hour-ahead electricity price ARIMA forecast: 11.401\n",
            "SARIMA(0, 0, 0)x(1, 1, 0, 24) - RMSE of hour-ahead electricity price ARIMA forecast: 8.682\n"
          ]
        }
      ]
    },
    {
      "cell_type": "markdown",
      "id": "5a597b0e",
      "metadata": {
        "id": "5a597b0e"
      },
      "source": [
        "### 2.2 XGBoost"
      ]
    },
    {
      "cell_type": "code",
      "execution_count": 68,
      "id": "a6b53216",
      "metadata": {
        "id": "a6b53216"
      },
      "outputs": [],
      "source": [
        "import xgboost as xgb"
      ]
    },
    {
      "cell_type": "code",
      "execution_count": 69,
      "id": "68f11f28",
      "metadata": {
        "id": "68f11f28"
      },
      "outputs": [],
      "source": [
        "X_train_xgb = X_train.reshape(X_train.shape[0], -1)  # (num_samples, history_size * num_features)\n",
        "X_val_xgb = X_val.reshape(X_val.shape[0], -1)\n",
        "X_test_xgb = X_test.reshape(X_test.shape[0], -1)"
      ]
    },
    {
      "cell_type": "code",
      "execution_count": 70,
      "id": "42d8e7d3",
      "metadata": {
        "id": "42d8e7d3"
      },
      "outputs": [],
      "source": [
        "# Parameters for XGBoost\n",
        "param = {\n",
        "    'eta': 0.03,                  # learning rate\n",
        "    'max_depth': 6,               # max tree depth\n",
        "    'subsample': 1.0,             # subsample ratio of training instances\n",
        "    'colsample_bytree': 0.95,    # subsample ratio of columns per tree\n",
        "    'alpha': 0.1,                 # L1 regularization term on weights\n",
        "    'lambda': 0.15,               # L2 regularization term on weights\n",
        "    'gamma': 0.1,                 # minimum loss reduction to make a split\n",
        "    'objective': 'reg:squarederror',  # regression with squared error (use this instead of deprecated 'reg:linear')\n",
        "    'eval_metric': 'rmse',\n",
        "    'n_jobs': -1                  # use all cores\n",
        "}"
      ]
    },
    {
      "cell_type": "code",
      "execution_count": 71,
      "id": "358c00ac",
      "metadata": {
        "id": "358c00ac",
        "colab": {
          "base_uri": "https://localhost:8080/"
        },
        "outputId": "c760efe8-0935-40b6-c67d-befbef3de4ae"
      },
      "outputs": [
        {
          "output_type": "stream",
          "name": "stdout",
          "text": [
            "[0]\ttrain-rmse:0.13351\teval-rmse:0.13117\n",
            "[1]\ttrain-rmse:0.12976\teval-rmse:0.12754\n",
            "[2]\ttrain-rmse:0.12613\teval-rmse:0.12405\n",
            "[3]\ttrain-rmse:0.12308\teval-rmse:0.12135\n",
            "[4]\ttrain-rmse:0.11992\teval-rmse:0.11844\n",
            "[5]\ttrain-rmse:0.11659\teval-rmse:0.11525\n",
            "[6]\ttrain-rmse:0.11337\teval-rmse:0.11214\n",
            "[7]\ttrain-rmse:0.11025\teval-rmse:0.10914\n",
            "[8]\ttrain-rmse:0.10723\teval-rmse:0.10624\n",
            "[9]\ttrain-rmse:0.10431\teval-rmse:0.10343\n",
            "[10]\ttrain-rmse:0.10148\teval-rmse:0.10070\n",
            "[11]\ttrain-rmse:0.09897\teval-rmse:0.09843\n",
            "[12]\ttrain-rmse:0.09631\teval-rmse:0.09588\n",
            "[13]\ttrain-rmse:0.09374\teval-rmse:0.09342\n",
            "[14]\ttrain-rmse:0.09125\teval-rmse:0.09103\n",
            "[15]\ttrain-rmse:0.08884\teval-rmse:0.08871\n",
            "[16]\ttrain-rmse:0.08651\teval-rmse:0.08647\n",
            "[17]\ttrain-rmse:0.08426\teval-rmse:0.08431\n",
            "[18]\ttrain-rmse:0.08208\teval-rmse:0.08222\n",
            "[19]\ttrain-rmse:0.07997\teval-rmse:0.08021\n",
            "[20]\ttrain-rmse:0.07794\teval-rmse:0.07827\n",
            "[21]\ttrain-rmse:0.07597\teval-rmse:0.07640\n",
            "[22]\ttrain-rmse:0.07407\teval-rmse:0.07460\n",
            "[23]\ttrain-rmse:0.07224\teval-rmse:0.07288\n",
            "[24]\ttrain-rmse:0.07047\teval-rmse:0.07120\n",
            "[25]\ttrain-rmse:0.06876\teval-rmse:0.06959\n",
            "[26]\ttrain-rmse:0.06711\teval-rmse:0.06804\n",
            "[27]\ttrain-rmse:0.06551\teval-rmse:0.06654\n",
            "[28]\ttrain-rmse:0.06397\teval-rmse:0.06510\n",
            "[29]\ttrain-rmse:0.06250\teval-rmse:0.06372\n",
            "[30]\ttrain-rmse:0.06107\teval-rmse:0.06237\n",
            "[31]\ttrain-rmse:0.05970\teval-rmse:0.06110\n",
            "[32]\ttrain-rmse:0.05837\teval-rmse:0.05988\n",
            "[33]\ttrain-rmse:0.05708\teval-rmse:0.05869\n",
            "[34]\ttrain-rmse:0.05585\teval-rmse:0.05756\n",
            "[35]\ttrain-rmse:0.05467\teval-rmse:0.05645\n",
            "[36]\ttrain-rmse:0.05352\teval-rmse:0.05540\n",
            "[37]\ttrain-rmse:0.05242\teval-rmse:0.05438\n",
            "[38]\ttrain-rmse:0.05146\teval-rmse:0.05358\n",
            "[39]\ttrain-rmse:0.05043\teval-rmse:0.05265\n",
            "[40]\ttrain-rmse:0.04954\teval-rmse:0.05191\n",
            "[41]\ttrain-rmse:0.04858\teval-rmse:0.05102\n",
            "[42]\ttrain-rmse:0.04766\teval-rmse:0.05018\n",
            "[43]\ttrain-rmse:0.04677\teval-rmse:0.04936\n",
            "[44]\ttrain-rmse:0.04591\teval-rmse:0.04857\n",
            "[45]\ttrain-rmse:0.04509\teval-rmse:0.04782\n",
            "[46]\ttrain-rmse:0.04431\teval-rmse:0.04712\n",
            "[47]\ttrain-rmse:0.04356\teval-rmse:0.04643\n",
            "[48]\ttrain-rmse:0.04282\teval-rmse:0.04578\n",
            "[49]\ttrain-rmse:0.04213\teval-rmse:0.04515\n",
            "[50]\ttrain-rmse:0.04147\teval-rmse:0.04456\n",
            "[51]\ttrain-rmse:0.04081\teval-rmse:0.04399\n",
            "[52]\ttrain-rmse:0.04019\teval-rmse:0.04344\n",
            "[53]\ttrain-rmse:0.03961\teval-rmse:0.04291\n",
            "[54]\ttrain-rmse:0.03905\teval-rmse:0.04243\n",
            "[55]\ttrain-rmse:0.03851\teval-rmse:0.04195\n",
            "[56]\ttrain-rmse:0.03798\teval-rmse:0.04147\n",
            "[57]\ttrain-rmse:0.03749\teval-rmse:0.04103\n",
            "[58]\ttrain-rmse:0.03702\teval-rmse:0.04063\n",
            "[59]\ttrain-rmse:0.03656\teval-rmse:0.04021\n",
            "[60]\ttrain-rmse:0.03614\teval-rmse:0.03983\n",
            "[61]\ttrain-rmse:0.03573\teval-rmse:0.03949\n",
            "[62]\ttrain-rmse:0.03534\teval-rmse:0.03914\n",
            "[63]\ttrain-rmse:0.03497\teval-rmse:0.03882\n",
            "[64]\ttrain-rmse:0.03460\teval-rmse:0.03850\n",
            "[65]\ttrain-rmse:0.03425\teval-rmse:0.03822\n",
            "[66]\ttrain-rmse:0.03393\teval-rmse:0.03795\n",
            "[67]\ttrain-rmse:0.03362\teval-rmse:0.03768\n",
            "[68]\ttrain-rmse:0.03332\teval-rmse:0.03743\n",
            "[69]\ttrain-rmse:0.03303\teval-rmse:0.03718\n",
            "[70]\ttrain-rmse:0.03276\teval-rmse:0.03695\n",
            "[71]\ttrain-rmse:0.03250\teval-rmse:0.03674\n",
            "[72]\ttrain-rmse:0.03226\teval-rmse:0.03653\n",
            "[73]\ttrain-rmse:0.03203\teval-rmse:0.03633\n",
            "[74]\ttrain-rmse:0.03182\teval-rmse:0.03614\n",
            "[75]\ttrain-rmse:0.03160\teval-rmse:0.03596\n",
            "[76]\ttrain-rmse:0.03138\teval-rmse:0.03576\n",
            "[77]\ttrain-rmse:0.03117\teval-rmse:0.03559\n",
            "[78]\ttrain-rmse:0.03098\teval-rmse:0.03542\n",
            "[79]\ttrain-rmse:0.03079\teval-rmse:0.03526\n",
            "[80]\ttrain-rmse:0.03060\teval-rmse:0.03510\n",
            "[81]\ttrain-rmse:0.03045\teval-rmse:0.03497\n",
            "[82]\ttrain-rmse:0.03027\teval-rmse:0.03481\n",
            "[83]\ttrain-rmse:0.03012\teval-rmse:0.03468\n",
            "[84]\ttrain-rmse:0.02997\teval-rmse:0.03455\n",
            "[85]\ttrain-rmse:0.02982\teval-rmse:0.03443\n",
            "[86]\ttrain-rmse:0.02969\teval-rmse:0.03431\n",
            "[87]\ttrain-rmse:0.02956\teval-rmse:0.03419\n",
            "[88]\ttrain-rmse:0.02944\teval-rmse:0.03410\n",
            "[89]\ttrain-rmse:0.02932\teval-rmse:0.03399\n",
            "[90]\ttrain-rmse:0.02920\teval-rmse:0.03390\n",
            "[91]\ttrain-rmse:0.02909\teval-rmse:0.03381\n",
            "[92]\ttrain-rmse:0.02898\teval-rmse:0.03372\n",
            "[93]\ttrain-rmse:0.02887\teval-rmse:0.03363\n",
            "[94]\ttrain-rmse:0.02878\teval-rmse:0.03354\n",
            "[95]\ttrain-rmse:0.02868\teval-rmse:0.03345\n",
            "[96]\ttrain-rmse:0.02859\teval-rmse:0.03337\n",
            "[97]\ttrain-rmse:0.02851\teval-rmse:0.03329\n",
            "[98]\ttrain-rmse:0.02841\teval-rmse:0.03320\n",
            "[99]\ttrain-rmse:0.02834\teval-rmse:0.03314\n",
            "[100]\ttrain-rmse:0.02826\teval-rmse:0.03307\n",
            "[101]\ttrain-rmse:0.02818\teval-rmse:0.03300\n",
            "[102]\ttrain-rmse:0.02809\teval-rmse:0.03294\n",
            "[103]\ttrain-rmse:0.02802\teval-rmse:0.03288\n",
            "[104]\ttrain-rmse:0.02796\teval-rmse:0.03282\n",
            "[105]\ttrain-rmse:0.02788\teval-rmse:0.03275\n",
            "[106]\ttrain-rmse:0.02782\teval-rmse:0.03269\n",
            "[107]\ttrain-rmse:0.02777\teval-rmse:0.03263\n",
            "[108]\ttrain-rmse:0.02771\teval-rmse:0.03260\n",
            "[109]\ttrain-rmse:0.02765\teval-rmse:0.03254\n",
            "[110]\ttrain-rmse:0.02759\teval-rmse:0.03249\n",
            "[111]\ttrain-rmse:0.02754\teval-rmse:0.03244\n",
            "[112]\ttrain-rmse:0.02749\teval-rmse:0.03239\n",
            "[113]\ttrain-rmse:0.02745\teval-rmse:0.03236\n",
            "[114]\ttrain-rmse:0.02741\teval-rmse:0.03232\n",
            "[115]\ttrain-rmse:0.02734\teval-rmse:0.03226\n",
            "[116]\ttrain-rmse:0.02730\teval-rmse:0.03222\n",
            "[117]\ttrain-rmse:0.02724\teval-rmse:0.03215\n",
            "[118]\ttrain-rmse:0.02720\teval-rmse:0.03210\n",
            "[119]\ttrain-rmse:0.02716\teval-rmse:0.03206\n",
            "[120]\ttrain-rmse:0.02711\teval-rmse:0.03200\n",
            "[121]\ttrain-rmse:0.02706\teval-rmse:0.03196\n",
            "[122]\ttrain-rmse:0.02702\teval-rmse:0.03193\n",
            "[123]\ttrain-rmse:0.02697\teval-rmse:0.03189\n",
            "[124]\ttrain-rmse:0.02694\teval-rmse:0.03186\n",
            "[125]\ttrain-rmse:0.02691\teval-rmse:0.03182\n",
            "[126]\ttrain-rmse:0.02687\teval-rmse:0.03178\n",
            "[127]\ttrain-rmse:0.02685\teval-rmse:0.03176\n",
            "[128]\ttrain-rmse:0.02681\teval-rmse:0.03171\n",
            "[129]\ttrain-rmse:0.02678\teval-rmse:0.03168\n",
            "[130]\ttrain-rmse:0.02676\teval-rmse:0.03167\n",
            "[131]\ttrain-rmse:0.02673\teval-rmse:0.03163\n",
            "[132]\ttrain-rmse:0.02669\teval-rmse:0.03160\n",
            "[133]\ttrain-rmse:0.02666\teval-rmse:0.03158\n",
            "[134]\ttrain-rmse:0.02663\teval-rmse:0.03155\n",
            "[135]\ttrain-rmse:0.02661\teval-rmse:0.03153\n",
            "[136]\ttrain-rmse:0.02658\teval-rmse:0.03151\n",
            "[137]\ttrain-rmse:0.02654\teval-rmse:0.03146\n",
            "[138]\ttrain-rmse:0.02653\teval-rmse:0.03145\n",
            "[139]\ttrain-rmse:0.02650\teval-rmse:0.03141\n",
            "[140]\ttrain-rmse:0.02646\teval-rmse:0.03138\n",
            "[141]\ttrain-rmse:0.02644\teval-rmse:0.03135\n",
            "[142]\ttrain-rmse:0.02642\teval-rmse:0.03134\n",
            "[143]\ttrain-rmse:0.02639\teval-rmse:0.03132\n",
            "[144]\ttrain-rmse:0.02636\teval-rmse:0.03129\n",
            "[145]\ttrain-rmse:0.02633\teval-rmse:0.03127\n",
            "[146]\ttrain-rmse:0.02631\teval-rmse:0.03126\n",
            "[147]\ttrain-rmse:0.02630\teval-rmse:0.03124\n",
            "[148]\ttrain-rmse:0.02628\teval-rmse:0.03123\n",
            "[149]\ttrain-rmse:0.02626\teval-rmse:0.03122\n",
            "[150]\ttrain-rmse:0.02625\teval-rmse:0.03120\n",
            "[151]\ttrain-rmse:0.02623\teval-rmse:0.03120\n",
            "[152]\ttrain-rmse:0.02623\teval-rmse:0.03119\n",
            "[153]\ttrain-rmse:0.02621\teval-rmse:0.03117\n",
            "[154]\ttrain-rmse:0.02620\teval-rmse:0.03116\n",
            "[155]\ttrain-rmse:0.02619\teval-rmse:0.03115\n",
            "[156]\ttrain-rmse:0.02618\teval-rmse:0.03115\n",
            "[157]\ttrain-rmse:0.02616\teval-rmse:0.03114\n",
            "[158]\ttrain-rmse:0.02615\teval-rmse:0.03112\n",
            "[159]\ttrain-rmse:0.02612\teval-rmse:0.03110\n",
            "[160]\ttrain-rmse:0.02612\teval-rmse:0.03110\n",
            "[161]\ttrain-rmse:0.02610\teval-rmse:0.03109\n",
            "[162]\ttrain-rmse:0.02609\teval-rmse:0.03108\n",
            "[163]\ttrain-rmse:0.02607\teval-rmse:0.03107\n",
            "[164]\ttrain-rmse:0.02605\teval-rmse:0.03105\n",
            "[165]\ttrain-rmse:0.02604\teval-rmse:0.03103\n",
            "[166]\ttrain-rmse:0.02603\teval-rmse:0.03103\n",
            "[167]\ttrain-rmse:0.02602\teval-rmse:0.03102\n",
            "[168]\ttrain-rmse:0.02600\teval-rmse:0.03100\n",
            "[169]\ttrain-rmse:0.02600\teval-rmse:0.03100\n",
            "[170]\ttrain-rmse:0.02599\teval-rmse:0.03100\n",
            "[171]\ttrain-rmse:0.02597\teval-rmse:0.03098\n",
            "[172]\ttrain-rmse:0.02596\teval-rmse:0.03097\n",
            "[173]\ttrain-rmse:0.02594\teval-rmse:0.03096\n",
            "[174]\ttrain-rmse:0.02593\teval-rmse:0.03095\n",
            "[175]\ttrain-rmse:0.02592\teval-rmse:0.03094\n",
            "[176]\ttrain-rmse:0.02592\teval-rmse:0.03094\n",
            "[177]\ttrain-rmse:0.02592\teval-rmse:0.03094\n",
            "[178]\ttrain-rmse:0.02592\teval-rmse:0.03094\n",
            "[179]\ttrain-rmse:0.02592\teval-rmse:0.03094\n"
          ]
        }
      ],
      "source": [
        "# Create DMatrix objects\n",
        "dtrain = xgb.DMatrix(X_train_xgb, label = y_train)\n",
        "dval = xgb.DMatrix(X_val_xgb, label = y_val)\n",
        "dtest = xgb.DMatrix(X_test_xgb, label = y_test)\n",
        "eval_list = [(dtrain, 'train'), (dval, 'eval')]\n",
        "\n",
        "# Train model with early stopping\n",
        "xgb_model = xgb.train(\n",
        "    params = param,\n",
        "    dtrain = dtrain,\n",
        "    num_boost_round = 180,\n",
        "    evals = eval_list,\n",
        "    early_stopping_rounds = 10,  # increased for more robustness\n",
        "    verbose_eval = True  # Show training logs\n",
        ")"
      ]
    },
    {
      "cell_type": "code",
      "execution_count": 72,
      "id": "a9963c7b",
      "metadata": {
        "id": "a9963c7b",
        "colab": {
          "base_uri": "https://localhost:8080/"
        },
        "outputId": "22ff5801-e5b4-4637-eef7-d245dfcfb26a"
      },
      "outputs": [
        {
          "output_type": "stream",
          "name": "stdout",
          "text": [
            "RMSE of hour-ahead electricity price XGBoost forecast: 2.206\n"
          ]
        }
      ],
      "source": [
        "# Predict on test set and reshape\n",
        "forecast = xgb_model.predict(dtest)\n",
        "xgb_forecast = forecast.reshape(-1, 1)\n",
        "\n",
        "# Inverse transform predictions back to original scale\n",
        "xgb_forecast_inv = scaler_y.inverse_transform(xgb_forecast)\n",
        "\n",
        "# Compute RMSE between true and predicted (both in original scale)\n",
        "rmse_xgb = np.sqrt(mean_squared_error(y_test_inv, xgb_forecast_inv))\n",
        "\n",
        "print(f\"RMSE of hour-ahead electricity price XGBoost forecast: {rmse_xgb:.3f}\")"
      ]
    },
    {
      "cell_type": "markdown",
      "id": "8f7f25d8",
      "metadata": {
        "id": "8f7f25d8"
      },
      "source": [
        "### 2.3 LSTM (Long Short-Term Memory networks)"
      ]
    },
    {
      "cell_type": "code",
      "source": [
        "model_file = \"multivariate_lstm.keras\"\n",
        "\n",
        "# Check if the directory and file exist\n",
        "load_lstm_model = (\n",
        "    os.path.isdir(models_path) and\n",
        "    os.path.isfile(os.path.join(models_path, model_file))\n",
        ")\n",
        "\n",
        "tf.keras.backend.clear_session()\n",
        "\n",
        "if load_lstm_model:\n",
        "  multivariate_lstm = Sequential([\n",
        "      Input(shape=input_shape),  # Explicit input layer\n",
        "      LSTM(100, return_sequences=True),\n",
        "      Flatten(),\n",
        "      Dense(200, activation='relu'),\n",
        "      Dropout(0.1),\n",
        "      Dense(1)\n",
        "  ])\n",
        "\n",
        "  model_checkpoint = tf.keras.callbacks.ModelCheckpoint('multivariate_lstm.keras', monitor = 'val_loss', save_best_only = True)\n",
        "\n",
        "  optimizer = tf.keras.optimizers.Adam(learning_rate = 1e-3, amsgrad = True) # Adam without AMSGrad is usually fine, but AMSGrad might help.\n",
        "\n",
        "  multivariate_lstm.compile(loss = loss, optimizer = optimizer, metrics = metric)\n",
        "\n",
        "  history = multivariate_lstm.fit(tf_training_data, epochs = n_epochs, validation_data = tf_validation_data, callbacks = [early_stopping, model_checkpoint])\n",
        "\n",
        "else:\n",
        "    multivariate_lstm = tf.keras.models.load_model('multivariate_lstm.keras')"
      ],
      "metadata": {
        "id": "kbl6iBIRyfwa"
      },
      "id": "kbl6iBIRyfwa",
      "execution_count": 31,
      "outputs": []
    },
    {
      "cell_type": "code",
      "source": [
        "forecast = multivariate_lstm.predict(X_test)\n",
        "lstm_forecast = scaler_y.inverse_transform(forecast)\n",
        "\n",
        "rmse_lstm = np.sqrt(mean_squared_error(y_test_inv, lstm_forecast))\n",
        "print(f\"RMSE of hour-ahead electricity price LSTM forecast: {round(rmse_lstm, 3)}\")"
      ],
      "metadata": {
        "colab": {
          "base_uri": "https://localhost:8080/"
        },
        "id": "qDY_hVFoytRL",
        "outputId": "cd6ef534-7fb3-45a3-dbb7-4f3fd8f40d8a"
      },
      "id": "qDY_hVFoytRL",
      "execution_count": 33,
      "outputs": [
        {
          "output_type": "stream",
          "name": "stdout",
          "text": [
            "\u001b[1m164/164\u001b[0m \u001b[32m━━━━━━━━━━━━━━━━━━━━\u001b[0m\u001b[37m\u001b[0m \u001b[1m2s\u001b[0m 10ms/step\n",
            "RMSE of hour-ahead electricity price LSTM forecast: 4.077\n"
          ]
        }
      ]
    },
    {
      "cell_type": "markdown",
      "id": "51929e05",
      "metadata": {
        "id": "51929e05"
      },
      "source": [
        "### 2.4 Temporal Convolutional Networks (TCN)"
      ]
    },
    {
      "cell_type": "code",
      "source": [
        "from tcn import TCN"
      ],
      "metadata": {
        "id": "7KkKQ0uf5Pnu"
      },
      "id": "7KkKQ0uf5Pnu",
      "execution_count": 38,
      "outputs": []
    },
    {
      "cell_type": "code",
      "source": [
        "model_file = \"multivariate_tcn.keras\"\n",
        "\n",
        "# Check if the directory and file exist\n",
        "load_tcn_model = (\n",
        "    os.path.isdir(models_path) and\n",
        "    os.path.isfile(os.path.join(models_path, model_file))\n",
        ")\n",
        "\n",
        "tf.keras.backend.clear_session()\n",
        "\n",
        "if load_tcn_model:\n",
        "  multivariate_tcn = tf.keras.models.Sequential([\n",
        "      tf.keras.Input(shape=input_shape),   # Add explicit Input layer first\n",
        "      TCN(\n",
        "          nb_filters = 64,\n",
        "          kernel_size = 3,\n",
        "          dilations = [1, 2, 4, 8, 16, 32],\n",
        "          return_sequences = False,\n",
        "          activation = 'relu'\n",
        "      ),\n",
        "      tf.keras.layers.Dense(200, activation = 'relu'),\n",
        "      tf.keras.layers.Dropout(0.1),\n",
        "      tf.keras.layers.Dense(1)\n",
        "  ])\n",
        "\n",
        "  model_checkpoint = tf.keras.callbacks.ModelCheckpoint('multivariate_tcn.keras', monitor = 'val_loss', save_best_only = True)\n",
        "\n",
        "  optimizer = tf.keras.optimizers.Adam(learning_rate = 1e-3, amsgrad = True)\n",
        "\n",
        "  multivariate_tcn.compile(loss = loss, optimizer = optimizer, metrics = metric)\n",
        "\n",
        "  history = multivariate_tcn.fit(tf_training_data, epochs = n_epochs, validation_data = tf_validation_data, callbacks = [early_stopping, model_checkpoint])\n",
        "\n",
        "else:\n",
        "    multivariate_tcn = tf.keras.models.load_model('multivariate_tcn.keras', custom_objects = {'TCN': TCN})"
      ],
      "metadata": {
        "id": "n84lHLYmQF9B"
      },
      "id": "n84lHLYmQF9B",
      "execution_count": null,
      "outputs": []
    },
    {
      "cell_type": "code",
      "source": [
        "forecast = multivariate_tcn.predict(X_test)\n",
        "tcn_forecast = scaler_y.inverse_transform(forecast)\n",
        "\n",
        "rmse_tcn = np.sqrt(mean_squared_error(y_test_inv, tcn_forecast))\n",
        "print(f\"RMSE of hour-ahead electricity price TCN forecast: {round(rmse_tcn, 3)}\")"
      ],
      "metadata": {
        "colab": {
          "base_uri": "https://localhost:8080/"
        },
        "id": "cTFzM5QP5OVQ",
        "outputId": "8c182244-104a-49f8-ed4f-5018daa85b90"
      },
      "id": "cTFzM5QP5OVQ",
      "execution_count": 41,
      "outputs": [
        {
          "output_type": "stream",
          "name": "stdout",
          "text": [
            "\u001b[1m164/164\u001b[0m \u001b[32m━━━━━━━━━━━━━━━━━━━━\u001b[0m\u001b[37m\u001b[0m \u001b[1m3s\u001b[0m 14ms/step\n",
            "RMSE of hour-ahead electricity price TCN forecast: 3.079\n"
          ]
        }
      ]
    },
    {
      "cell_type": "markdown",
      "id": "480ffe73",
      "metadata": {
        "id": "480ffe73"
      },
      "source": [
        "### 2.5 Encoder-Decoder Model"
      ]
    },
    {
      "cell_type": "code",
      "source": [
        "model_file = \"encoder_decoder.keras\"\n",
        "\n",
        "# Check if the directory and file exist\n",
        "load_encoder_decoder_model = (\n",
        "    os.path.isdir(models_path) and\n",
        "    os.path.isfile(os.path.join(models_path, model_file))\n",
        ")\n",
        "\n",
        "tf.keras.backend.clear_session()\n",
        "\n",
        "if load_encoder_decoder_model:\n",
        "  encoder_decoder = tf.keras.models.Sequential([\n",
        "                        LSTM(50, activation = 'relu', input_shape = input_shape),\n",
        "                        RepeatVector(history_size),\n",
        "                        LSTM(50, activation = 'relu', return_sequences = True),\n",
        "                        TimeDistributed(Dense(50, activation = 'relu')),\n",
        "                        Flatten(),\n",
        "                        Dense(25, activation = 'relu'),\n",
        "                        Dense(1)\n",
        "                    ])\n",
        "\n",
        "  model_checkpoint = tf.keras.callbacks.ModelCheckpoint('encoder_decoder.keras', save_best_only = True)\n",
        "\n",
        "  optimizer = tf.keras.optimizers.Adam(learning_rate = 1e-3, amsgrad = True)\n",
        "\n",
        "  encoder_decoder.compile(loss = loss, optimizer = optimizer, metrics = metric)\n",
        "\n",
        "  history = encoder_decoder.fit(tf_training_data, epochs = n_epochs, validation_data = tf_validation_data, callbacks = [early_stopping, model_checkpoint])\n",
        "\n",
        "else:\n",
        "    encoder_decoder = tf.keras.models.load_model('encoder_decoder.keras')"
      ],
      "metadata": {
        "id": "hPG66nfYQZSL"
      },
      "id": "hPG66nfYQZSL",
      "execution_count": null,
      "outputs": []
    },
    {
      "cell_type": "code",
      "source": [
        "forecast = encoder_decoder.predict(X_test)\n",
        "encoder_decoder_forecast = scaler_y.inverse_transform(forecast)\n",
        "\n",
        "rmse_encoder_decoder = np.sqrt(mean_squared_error(y_test_inv, encoder_decoder_forecast))\n",
        "print(f\"RMSE of hour-ahead electricity price Encoder-Decoder forecast: {round(rmse_encoder_decoder, 3)}\")"
      ],
      "metadata": {
        "colab": {
          "base_uri": "https://localhost:8080/"
        },
        "id": "Y34vacaLMxKp",
        "outputId": "3571a27d-04d4-49c4-92c5-91aa00d186cc"
      },
      "id": "Y34vacaLMxKp",
      "execution_count": 44,
      "outputs": [
        {
          "output_type": "stream",
          "name": "stdout",
          "text": [
            "\u001b[1m164/164\u001b[0m \u001b[32m━━━━━━━━━━━━━━━━━━━━\u001b[0m\u001b[37m\u001b[0m \u001b[1m2s\u001b[0m 11ms/step\n",
            "RMSE of hour-ahead electricity price Encoder-Decoder forecast: 2.545\n"
          ]
        }
      ]
    },
    {
      "cell_type": "markdown",
      "source": [
        "***"
      ],
      "metadata": {
        "id": "w_c-QDqmLzr9"
      },
      "id": "w_c-QDqmLzr9"
    },
    {
      "cell_type": "markdown",
      "source": [
        "## 3. Conclusion"
      ],
      "metadata": {
        "id": "3iaJcwmFLEgZ"
      },
      "id": "3iaJcwmFLEgZ"
    },
    {
      "cell_type": "markdown",
      "source": [
        "The XGBoost model achieved the lowest RMSE for hour-ahead electricity price forecasting, making it a strong candidate for future predictions."
      ],
      "metadata": {
        "id": "-_oxrBajJuce"
      },
      "id": "-_oxrBajJuce"
    },
    {
      "cell_type": "code",
      "source": [
        "y_train = y_train.reshape(-1, 1)\n",
        "y_train_inv = scaler_y.inverse_transform(y_train) # this is the inverse tranform not the inverse of vector y\n",
        "\n",
        "y_val = y_test.reshape(-1, 1)\n",
        "y_val_inv = scaler_y.inverse_transform(y_val) # this is the inverse tranform not the inverse of vector y\n",
        "\n",
        "# Combine the train, validation, and test actuals\n",
        "actual_prices = np.concatenate([y_train_inv, y_val_inv, y_test_inv])\n",
        "\n",
        "# xgb_forecast_inv was computed previously\n",
        "\n",
        "# Create a forecast series aligned with the test portion\n",
        "forecast_series = np.full_like(actual_prices, np.nan, dtype = float)\n",
        "forecast_series[-len(y_test_inv):] = xgb_forecast_inv.flatten()\n",
        "\n",
        "# Plot\n",
        "plt.figure(figsize=(12, 6))\n",
        "plt.plot(actual_prices, label=\"Actual Prices\", color='blue')\n",
        "plt.plot(forecast_series, label=\"XGBoost Forecast (Test)\", color='red', linestyle='--')\n",
        "plt.axvline(x=len(y_train_inv) + len(y_val_inv), color='gray', linestyle=':', label='Test Start')\n",
        "\n",
        "plt.title(\"Electricity Prices with XGBoost Forecast (Test Period)\")\n",
        "plt.xlabel(\"Time Steps\")\n",
        "plt.ylabel(\"Price\")\n",
        "plt.legend()\n",
        "plt.grid(True)\n",
        "plt.tight_layout()\n",
        "plt.show()"
      ],
      "metadata": {
        "colab": {
          "base_uri": "https://localhost:8080/",
          "height": 211
        },
        "id": "91T-Qk-sKBfP",
        "outputId": "d0b1ef97-e0a0-469e-f8af-60614a48c219"
      },
      "id": "91T-Qk-sKBfP",
      "execution_count": 73,
      "outputs": [
        {
          "output_type": "error",
          "ename": "ValueError",
          "evalue": "could not broadcast input array from shape (5236,) into shape (5236,1)",
          "traceback": [
            "\u001b[0;31m---------------------------------------------------------------------------\u001b[0m",
            "\u001b[0;31mValueError\u001b[0m                                Traceback (most recent call last)",
            "\u001b[0;32m/tmp/ipython-input-2089175803.py\u001b[0m in \u001b[0;36m<cell line: 0>\u001b[0;34m()\u001b[0m\n\u001b[1;32m     12\u001b[0m \u001b[0;31m# Create a forecast series aligned with the test portion\u001b[0m\u001b[0;34m\u001b[0m\u001b[0;34m\u001b[0m\u001b[0m\n\u001b[1;32m     13\u001b[0m \u001b[0mforecast_series\u001b[0m \u001b[0;34m=\u001b[0m \u001b[0mnp\u001b[0m\u001b[0;34m.\u001b[0m\u001b[0mfull_like\u001b[0m\u001b[0;34m(\u001b[0m\u001b[0mactual_prices\u001b[0m\u001b[0;34m,\u001b[0m \u001b[0mnp\u001b[0m\u001b[0;34m.\u001b[0m\u001b[0mnan\u001b[0m\u001b[0;34m,\u001b[0m \u001b[0mdtype\u001b[0m \u001b[0;34m=\u001b[0m \u001b[0mfloat\u001b[0m\u001b[0;34m)\u001b[0m\u001b[0;34m\u001b[0m\u001b[0;34m\u001b[0m\u001b[0m\n\u001b[0;32m---> 14\u001b[0;31m \u001b[0mforecast_series\u001b[0m\u001b[0;34m[\u001b[0m\u001b[0;34m-\u001b[0m\u001b[0mlen\u001b[0m\u001b[0;34m(\u001b[0m\u001b[0my_test_inv\u001b[0m\u001b[0;34m)\u001b[0m\u001b[0;34m:\u001b[0m\u001b[0;34m]\u001b[0m \u001b[0;34m=\u001b[0m \u001b[0mxgb_forecast_inv\u001b[0m\u001b[0;34m.\u001b[0m\u001b[0mflatten\u001b[0m\u001b[0;34m(\u001b[0m\u001b[0;34m)\u001b[0m\u001b[0;34m\u001b[0m\u001b[0;34m\u001b[0m\u001b[0m\n\u001b[0m\u001b[1;32m     15\u001b[0m \u001b[0;34m\u001b[0m\u001b[0m\n\u001b[1;32m     16\u001b[0m \u001b[0;31m# Plot\u001b[0m\u001b[0;34m\u001b[0m\u001b[0;34m\u001b[0m\u001b[0m\n",
            "\u001b[0;31mValueError\u001b[0m: could not broadcast input array from shape (5236,) into shape (5236,1)"
          ]
        }
      ]
    },
    {
      "cell_type": "code",
      "source": [
        "# Ensure all series are 1D\n",
        "y_train_inv = y_train_inv.flatten()\n",
        "y_val_inv = y_val_inv.flatten()\n",
        "y_test_inv = y_test_inv.flatten()\n",
        "xgb_forecast_inv = xgb_forecast_inv.flatten()\n",
        "\n",
        "# Combine actual prices\n",
        "actual_prices = np.concatenate([y_train_inv, y_val_inv, y_test_inv])\n",
        "\n",
        "# Create forecast series aligned with test portion\n",
        "forecast_series = np.full(len(actual_prices), np.nan, dtype=float)\n",
        "forecast_series[-len(y_test_inv):] = xgb_forecast_inv"
      ],
      "metadata": {
        "id": "X0F7hrzOMGsg"
      },
      "id": "X0F7hrzOMGsg",
      "execution_count": 75,
      "outputs": []
    },
    {
      "cell_type": "code",
      "source": [
        "# ---------- Full Plot ----------\n",
        "plt.figure(figsize=(12, 6))\n",
        "plt.plot(actual_prices, label=\"Actual Prices\", color='blue')\n",
        "plt.plot(forecast_series, label=\"XGBoost Forecast (Test)\", color='red', linestyle='--')\n",
        "plt.axvline(x=len(y_train_inv) + len(y_val_inv), color='gray', linestyle=':', label='Test Start')\n",
        "plt.title(\"Electricity Prices with XGBoost Forecast (Test Period)\")\n",
        "plt.xlabel(\"Time Steps\")\n",
        "plt.ylabel(\"Price\")\n",
        "plt.legend()\n",
        "plt.grid(True)\n",
        "plt.tight_layout()\n",
        "plt.show()"
      ],
      "metadata": {
        "colab": {
          "base_uri": "https://localhost:8080/",
          "height": 575
        },
        "id": "54xdFgoDMJQs",
        "outputId": "1175c09f-c0a4-4135-b314-8eb8ee932887"
      },
      "id": "54xdFgoDMJQs",
      "execution_count": 76,
      "outputs": [
        {
          "output_type": "display_data",
          "data": {
            "text/plain": [
              "<Figure size 1200x600 with 1 Axes>"
            ],
            "image/png": "[encoded data removed]"
          },
          "metadata": {}
        }
      ]
    },
    {
      "cell_type": "code",
      "source": [
        "# ---------- Zoomed-in Plot (choose week_index) ----------\n",
        "def plot_two_week_block(week_index: int = 0):\n",
        "    \"\"\"\n",
        "    Plots a chosen 2-week block from the test set.\n",
        "    week_index: 0 means the first 2 weeks of test set, 1 means the next 2 weeks, etc.\n",
        "    \"\"\"\n",
        "    two_weeks = 24 * 14  # 336 data points\n",
        "    test_start = len(y_train_inv) + len(y_val_inv)\n",
        "    zoom_start = test_start + (week_index * two_weeks)\n",
        "    zoom_end = zoom_start + two_weeks\n",
        "\n",
        "    plt.figure(figsize=(12, 6))\n",
        "    plt.plot(range(zoom_start, zoom_end), actual_prices[zoom_start:zoom_end],\n",
        "             label=\"Actual Prices\", color='blue')\n",
        "    plt.plot(range(zoom_start, zoom_end), forecast_series[zoom_start:zoom_end],\n",
        "             label=\"XGBoost Forecast\", color='red', linestyle='--')\n",
        "    plt.title(f\"Electricity Prices - 2 Week Zoom (Block {week_index + 1})\")\n",
        "    plt.xlabel(\"Time Steps\")\n",
        "    plt.ylabel(\"Price\")\n",
        "    plt.legend()\n",
        "    plt.grid(True)\n",
        "    plt.tight_layout()\n",
        "    plt.show()\n",
        "\n",
        "# Example: plot the second 2-week block from the test set\n",
        "plot_two_week_block(week_index = 1)"
      ],
      "metadata": {
        "colab": {
          "base_uri": "https://localhost:8080/",
          "height": 575
        },
        "id": "cpb-JwnfLvVQ",
        "outputId": "11284dc9-f8f4-4c1e-f934-926e22922196"
      },
      "id": "cpb-JwnfLvVQ",
      "execution_count": 78,
      "outputs": [
        {
          "output_type": "display_data",
          "data": {
            "text/plain": [
              "<Figure size 1200x600 with 1 Axes>"
            ],
            "image/png": "[encoded data removed]"
          },
          "metadata": {}
        }
      ]
    }
  ],
  "metadata": {
    "kernelspec": {
      "display_name": "Python 3",
      "language": "python",
      "name": "python3"
    },
    "language_info": {
      "codemirror_mode": {
        "name": "ipython",
        "version": 3
      },
      "file_extension": ".py",
      "mimetype": "text/x-python",
      "name": "python",
      "nbconvert_exporter": "python",
      "pygments_lexer": "ipython3",
      "version": "3.12.1"
    },
    "colab": {
      "provenance": []
    }
  },
  "nbformat": 4,
  "nbformat_minor": 5
}
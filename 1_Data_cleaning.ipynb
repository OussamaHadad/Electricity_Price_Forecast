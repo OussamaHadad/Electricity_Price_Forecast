{
 "cells": [
  {
   "cell_type": "code",
   "execution_count": 110,
   "id": "0b5bf45d",
   "metadata": {},
   "outputs": [],
   "source": [
    "import pandas as pd\n",
    "import matplotlib.pyplot as plt\n",
    "import seaborn as sns"
   ]
  },
  {
   "cell_type": "markdown",
   "id": "5e1243af",
   "metadata": {},
   "source": [
    "## Load the data sets"
   ]
  },
  {
   "cell_type": "code",
   "execution_count": 111,
   "id": "132fd146",
   "metadata": {},
   "outputs": [],
   "source": [
    "df_energy = pd.read_csv(\"./data/energy_dataset.csv\", parse_dates = [\"time\"])\n",
    "df_weather = pd.read_csv(\"./data/weather_features.csv\", parse_dates = [\"dt_iso\"])"
   ]
  },
  {
   "cell_type": "markdown",
   "id": "0f4c263c",
   "metadata": {},
   "source": [
    "## Energy Data Cleaning"
   ]
  },
  {
   "cell_type": "code",
   "execution_count": 112,
   "id": "4ad4371a",
   "metadata": {},
   "outputs": [
    {
     "data": {
      "text/html": [
       "<div>\n",
       "<style scoped>\n",
       "    .dataframe tbody tr th:only-of-type {\n",
       "        vertical-align: middle;\n",
       "    }\n",
       "\n",
       "    .dataframe tbody tr th {\n",
       "        vertical-align: top;\n",
       "    }\n",
       "\n",
       "    .dataframe thead th {\n",
       "        text-align: right;\n",
       "    }\n",
       "</style>\n",
       "<table border=\"1\" class=\"dataframe\">\n",
       "  <thead>\n",
       "    <tr style=\"text-align: right;\">\n",
       "      <th></th>\n",
       "      <th>generation biomass</th>\n",
       "      <th>generation fossil brown coal/lignite</th>\n",
       "      <th>generation fossil coal-derived gas</th>\n",
       "      <th>generation fossil gas</th>\n",
       "      <th>generation fossil hard coal</th>\n",
       "      <th>generation fossil oil</th>\n",
       "      <th>generation fossil oil shale</th>\n",
       "      <th>generation fossil peat</th>\n",
       "      <th>generation geothermal</th>\n",
       "      <th>generation hydro pumped storage aggregated</th>\n",
       "      <th>...</th>\n",
       "      <th>generation waste</th>\n",
       "      <th>generation wind offshore</th>\n",
       "      <th>generation wind onshore</th>\n",
       "      <th>forecast solar day ahead</th>\n",
       "      <th>forecast wind offshore eday ahead</th>\n",
       "      <th>forecast wind onshore day ahead</th>\n",
       "      <th>total load forecast</th>\n",
       "      <th>total load actual</th>\n",
       "      <th>price day ahead</th>\n",
       "      <th>price actual</th>\n",
       "    </tr>\n",
       "  </thead>\n",
       "  <tbody>\n",
       "    <tr>\n",
       "      <th>count</th>\n",
       "      <td>35045.00</td>\n",
       "      <td>35046.00</td>\n",
       "      <td>35046.0</td>\n",
       "      <td>35046.00</td>\n",
       "      <td>35046.00</td>\n",
       "      <td>35045.00</td>\n",
       "      <td>35046.0</td>\n",
       "      <td>35046.0</td>\n",
       "      <td>35046.0</td>\n",
       "      <td>0.0</td>\n",
       "      <td>...</td>\n",
       "      <td>35045.00</td>\n",
       "      <td>35046.0</td>\n",
       "      <td>35046.00</td>\n",
       "      <td>35064.00</td>\n",
       "      <td>0.0</td>\n",
       "      <td>35064.00</td>\n",
       "      <td>35064.00</td>\n",
       "      <td>35028.00</td>\n",
       "      <td>35064.00</td>\n",
       "      <td>35064.00</td>\n",
       "    </tr>\n",
       "    <tr>\n",
       "      <th>mean</th>\n",
       "      <td>383.51</td>\n",
       "      <td>448.06</td>\n",
       "      <td>0.0</td>\n",
       "      <td>5622.74</td>\n",
       "      <td>4256.07</td>\n",
       "      <td>298.32</td>\n",
       "      <td>0.0</td>\n",
       "      <td>0.0</td>\n",
       "      <td>0.0</td>\n",
       "      <td>NaN</td>\n",
       "      <td>...</td>\n",
       "      <td>269.45</td>\n",
       "      <td>0.0</td>\n",
       "      <td>5464.48</td>\n",
       "      <td>1439.07</td>\n",
       "      <td>NaN</td>\n",
       "      <td>5471.22</td>\n",
       "      <td>28712.13</td>\n",
       "      <td>28696.94</td>\n",
       "      <td>49.87</td>\n",
       "      <td>57.88</td>\n",
       "    </tr>\n",
       "    <tr>\n",
       "      <th>std</th>\n",
       "      <td>85.35</td>\n",
       "      <td>354.57</td>\n",
       "      <td>0.0</td>\n",
       "      <td>2201.83</td>\n",
       "      <td>1961.60</td>\n",
       "      <td>52.52</td>\n",
       "      <td>0.0</td>\n",
       "      <td>0.0</td>\n",
       "      <td>0.0</td>\n",
       "      <td>NaN</td>\n",
       "      <td>...</td>\n",
       "      <td>50.20</td>\n",
       "      <td>0.0</td>\n",
       "      <td>3213.69</td>\n",
       "      <td>1677.70</td>\n",
       "      <td>NaN</td>\n",
       "      <td>3176.31</td>\n",
       "      <td>4594.10</td>\n",
       "      <td>4574.99</td>\n",
       "      <td>14.62</td>\n",
       "      <td>14.20</td>\n",
       "    </tr>\n",
       "    <tr>\n",
       "      <th>min</th>\n",
       "      <td>0.00</td>\n",
       "      <td>0.00</td>\n",
       "      <td>0.0</td>\n",
       "      <td>0.00</td>\n",
       "      <td>0.00</td>\n",
       "      <td>0.00</td>\n",
       "      <td>0.0</td>\n",
       "      <td>0.0</td>\n",
       "      <td>0.0</td>\n",
       "      <td>NaN</td>\n",
       "      <td>...</td>\n",
       "      <td>0.00</td>\n",
       "      <td>0.0</td>\n",
       "      <td>0.00</td>\n",
       "      <td>0.00</td>\n",
       "      <td>NaN</td>\n",
       "      <td>237.00</td>\n",
       "      <td>18105.00</td>\n",
       "      <td>18041.00</td>\n",
       "      <td>2.06</td>\n",
       "      <td>9.33</td>\n",
       "    </tr>\n",
       "    <tr>\n",
       "      <th>25%</th>\n",
       "      <td>333.00</td>\n",
       "      <td>0.00</td>\n",
       "      <td>0.0</td>\n",
       "      <td>4126.00</td>\n",
       "      <td>2527.00</td>\n",
       "      <td>263.00</td>\n",
       "      <td>0.0</td>\n",
       "      <td>0.0</td>\n",
       "      <td>0.0</td>\n",
       "      <td>NaN</td>\n",
       "      <td>...</td>\n",
       "      <td>240.00</td>\n",
       "      <td>0.0</td>\n",
       "      <td>2933.00</td>\n",
       "      <td>69.00</td>\n",
       "      <td>NaN</td>\n",
       "      <td>2979.00</td>\n",
       "      <td>24793.75</td>\n",
       "      <td>24807.75</td>\n",
       "      <td>41.49</td>\n",
       "      <td>49.35</td>\n",
       "    </tr>\n",
       "    <tr>\n",
       "      <th>50%</th>\n",
       "      <td>367.00</td>\n",
       "      <td>509.00</td>\n",
       "      <td>0.0</td>\n",
       "      <td>4969.00</td>\n",
       "      <td>4474.00</td>\n",
       "      <td>300.00</td>\n",
       "      <td>0.0</td>\n",
       "      <td>0.0</td>\n",
       "      <td>0.0</td>\n",
       "      <td>NaN</td>\n",
       "      <td>...</td>\n",
       "      <td>279.00</td>\n",
       "      <td>0.0</td>\n",
       "      <td>4849.00</td>\n",
       "      <td>576.00</td>\n",
       "      <td>NaN</td>\n",
       "      <td>4855.00</td>\n",
       "      <td>28906.00</td>\n",
       "      <td>28901.00</td>\n",
       "      <td>50.52</td>\n",
       "      <td>58.02</td>\n",
       "    </tr>\n",
       "    <tr>\n",
       "      <th>75%</th>\n",
       "      <td>433.00</td>\n",
       "      <td>757.00</td>\n",
       "      <td>0.0</td>\n",
       "      <td>6429.00</td>\n",
       "      <td>5838.75</td>\n",
       "      <td>330.00</td>\n",
       "      <td>0.0</td>\n",
       "      <td>0.0</td>\n",
       "      <td>0.0</td>\n",
       "      <td>NaN</td>\n",
       "      <td>...</td>\n",
       "      <td>310.00</td>\n",
       "      <td>0.0</td>\n",
       "      <td>7398.00</td>\n",
       "      <td>2636.00</td>\n",
       "      <td>NaN</td>\n",
       "      <td>7353.00</td>\n",
       "      <td>32263.25</td>\n",
       "      <td>32192.00</td>\n",
       "      <td>60.53</td>\n",
       "      <td>68.01</td>\n",
       "    </tr>\n",
       "    <tr>\n",
       "      <th>max</th>\n",
       "      <td>592.00</td>\n",
       "      <td>999.00</td>\n",
       "      <td>0.0</td>\n",
       "      <td>20034.00</td>\n",
       "      <td>8359.00</td>\n",
       "      <td>449.00</td>\n",
       "      <td>0.0</td>\n",
       "      <td>0.0</td>\n",
       "      <td>0.0</td>\n",
       "      <td>NaN</td>\n",
       "      <td>...</td>\n",
       "      <td>357.00</td>\n",
       "      <td>0.0</td>\n",
       "      <td>17436.00</td>\n",
       "      <td>5836.00</td>\n",
       "      <td>NaN</td>\n",
       "      <td>17430.00</td>\n",
       "      <td>41390.00</td>\n",
       "      <td>41015.00</td>\n",
       "      <td>101.99</td>\n",
       "      <td>116.80</td>\n",
       "    </tr>\n",
       "  </tbody>\n",
       "</table>\n",
       "<p>8 rows × 28 columns</p>\n",
       "</div>"
      ],
      "text/plain": [
       "       generation biomass  generation fossil brown coal/lignite  \\\n",
       "count            35045.00                              35046.00   \n",
       "mean               383.51                                448.06   \n",
       "std                 85.35                                354.57   \n",
       "min                  0.00                                  0.00   \n",
       "25%                333.00                                  0.00   \n",
       "50%                367.00                                509.00   \n",
       "75%                433.00                                757.00   \n",
       "max                592.00                                999.00   \n",
       "\n",
       "       generation fossil coal-derived gas  generation fossil gas  \\\n",
       "count                             35046.0               35046.00   \n",
       "mean                                  0.0                5622.74   \n",
       "std                                   0.0                2201.83   \n",
       "min                                   0.0                   0.00   \n",
       "25%                                   0.0                4126.00   \n",
       "50%                                   0.0                4969.00   \n",
       "75%                                   0.0                6429.00   \n",
       "max                                   0.0               20034.00   \n",
       "\n",
       "       generation fossil hard coal  generation fossil oil  \\\n",
       "count                     35046.00               35045.00   \n",
       "mean                       4256.07                 298.32   \n",
       "std                        1961.60                  52.52   \n",
       "min                           0.00                   0.00   \n",
       "25%                        2527.00                 263.00   \n",
       "50%                        4474.00                 300.00   \n",
       "75%                        5838.75                 330.00   \n",
       "max                        8359.00                 449.00   \n",
       "\n",
       "       generation fossil oil shale  generation fossil peat  \\\n",
       "count                      35046.0                 35046.0   \n",
       "mean                           0.0                     0.0   \n",
       "std                            0.0                     0.0   \n",
       "min                            0.0                     0.0   \n",
       "25%                            0.0                     0.0   \n",
       "50%                            0.0                     0.0   \n",
       "75%                            0.0                     0.0   \n",
       "max                            0.0                     0.0   \n",
       "\n",
       "       generation geothermal  generation hydro pumped storage aggregated  ...  \\\n",
       "count                35046.0                                         0.0  ...   \n",
       "mean                     0.0                                         NaN  ...   \n",
       "std                      0.0                                         NaN  ...   \n",
       "min                      0.0                                         NaN  ...   \n",
       "25%                      0.0                                         NaN  ...   \n",
       "50%                      0.0                                         NaN  ...   \n",
       "75%                      0.0                                         NaN  ...   \n",
       "max                      0.0                                         NaN  ...   \n",
       "\n",
       "       generation waste  generation wind offshore  generation wind onshore  \\\n",
       "count          35045.00                   35046.0                 35046.00   \n",
       "mean             269.45                       0.0                  5464.48   \n",
       "std               50.20                       0.0                  3213.69   \n",
       "min                0.00                       0.0                     0.00   \n",
       "25%              240.00                       0.0                  2933.00   \n",
       "50%              279.00                       0.0                  4849.00   \n",
       "75%              310.00                       0.0                  7398.00   \n",
       "max              357.00                       0.0                 17436.00   \n",
       "\n",
       "       forecast solar day ahead  forecast wind offshore eday ahead  \\\n",
       "count                  35064.00                                0.0   \n",
       "mean                    1439.07                                NaN   \n",
       "std                     1677.70                                NaN   \n",
       "min                        0.00                                NaN   \n",
       "25%                       69.00                                NaN   \n",
       "50%                      576.00                                NaN   \n",
       "75%                     2636.00                                NaN   \n",
       "max                     5836.00                                NaN   \n",
       "\n",
       "       forecast wind onshore day ahead  total load forecast  \\\n",
       "count                         35064.00             35064.00   \n",
       "mean                           5471.22             28712.13   \n",
       "std                            3176.31              4594.10   \n",
       "min                             237.00             18105.00   \n",
       "25%                            2979.00             24793.75   \n",
       "50%                            4855.00             28906.00   \n",
       "75%                            7353.00             32263.25   \n",
       "max                           17430.00             41390.00   \n",
       "\n",
       "       total load actual  price day ahead  price actual  \n",
       "count           35028.00         35064.00      35064.00  \n",
       "mean            28696.94            49.87         57.88  \n",
       "std              4574.99            14.62         14.20  \n",
       "min             18041.00             2.06          9.33  \n",
       "25%             24807.75            41.49         49.35  \n",
       "50%             28901.00            50.52         58.02  \n",
       "75%             32192.00            60.53         68.01  \n",
       "max             41015.00           101.99        116.80  \n",
       "\n",
       "[8 rows x 28 columns]"
      ]
     },
     "execution_count": 112,
     "metadata": {},
     "output_type": "execute_result"
    }
   ],
   "source": [
    "df_energy.describe().round(2)"
   ]
  },
  {
   "cell_type": "markdown",
   "id": "e4c1e304",
   "metadata": {},
   "source": [
    "Some columns are full of zeros and others are full af NaNs. We have to drop these attributes as they are useless"
   ]
  },
  {
   "cell_type": "code",
   "execution_count": 113,
   "id": "92618ddd",
   "metadata": {},
   "outputs": [
    {
     "name": "stdout",
     "output_type": "stream",
     "text": [
      "Energy dataset shape: (35064, 29) \n",
      "Energy dataset attributes and their types: \n"
     ]
    },
    {
     "data": {
      "text/plain": [
       "time                                            object\n",
       "generation biomass                             float64\n",
       "generation fossil brown coal/lignite           float64\n",
       "generation fossil coal-derived gas             float64\n",
       "generation fossil gas                          float64\n",
       "generation fossil hard coal                    float64\n",
       "generation fossil oil                          float64\n",
       "generation fossil oil shale                    float64\n",
       "generation fossil peat                         float64\n",
       "generation geothermal                          float64\n",
       "generation hydro pumped storage aggregated     float64\n",
       "generation hydro pumped storage consumption    float64\n",
       "generation hydro run-of-river and poundage     float64\n",
       "generation hydro water reservoir               float64\n",
       "generation marine                              float64\n",
       "generation nuclear                             float64\n",
       "generation other                               float64\n",
       "generation other renewable                     float64\n",
       "generation solar                               float64\n",
       "generation waste                               float64\n",
       "generation wind offshore                       float64\n",
       "generation wind onshore                        float64\n",
       "forecast solar day ahead                       float64\n",
       "forecast wind offshore eday ahead              float64\n",
       "forecast wind onshore day ahead                float64\n",
       "total load forecast                            float64\n",
       "total load actual                              float64\n",
       "price day ahead                                float64\n",
       "price actual                                   float64\n",
       "dtype: object"
      ]
     },
     "execution_count": 113,
     "metadata": {},
     "output_type": "execute_result"
    }
   ],
   "source": [
    "print(f\"Energy dataset shape: {df_energy.shape} \\nEnergy dataset attributes and their types: \")\n",
    "df_energy.dtypes"
   ]
  },
  {
   "cell_type": "code",
   "execution_count": 114,
   "id": "2fcd372f",
   "metadata": {},
   "outputs": [],
   "source": [
    "# time attribute wasn't parsed correctly, thus we will update its format and set it as the index of the energy data set\n",
    "\n",
    "df_energy['time'] = pd.to_datetime(df_energy['time'], utc = True)\n",
    "df_energy = df_energy.set_index('time')"
   ]
  },
  {
   "cell_type": "code",
   "execution_count": 115,
   "id": "1f5cb820",
   "metadata": {},
   "outputs": [
    {
     "name": "stdout",
     "output_type": "stream",
     "text": [
      "Dropping the following columns due to > 30% missing or zero values:\n",
      "['generation fossil brown coal/lignite', 'generation fossil coal-derived gas', 'generation fossil oil shale', 'generation fossil peat', 'generation geothermal', 'generation hydro pumped storage aggregated', 'generation hydro pumped storage consumption', 'generation marine', 'generation wind offshore', 'forecast wind offshore eday ahead']\n"
     ]
    }
   ],
   "source": [
    "# Drop columns with a number of missing values or zeros above the treshold\n",
    "\n",
    "threshold = 0.3  # 30% missing data or zeros allowed\n",
    "\n",
    "# Fraction of missing values per column\n",
    "missing_fraction = df_energy.isna().mean()\n",
    "\n",
    "# Fraction of zero values per column\n",
    "zero_fraction = (df_energy == 0).mean()\n",
    "\n",
    "# Combined fraction: missing OR zero\n",
    "combined_fraction = missing_fraction + zero_fraction\n",
    "\n",
    "# Identify columns to drop\n",
    "cols_to_drop = combined_fraction[combined_fraction > threshold].index\n",
    "\n",
    "print(f\"Dropping the following columns due to > {threshold*100:.0f}% missing or zero values:\")\n",
    "print(list(cols_to_drop))\n",
    "\n",
    "# Drop the columns\n",
    "df_energy = df_energy.drop(columns=cols_to_drop)"
   ]
  },
  {
   "cell_type": "code",
   "execution_count": 116,
   "id": "71cff61d",
   "metadata": {},
   "outputs": [
    {
     "name": "stdout",
     "output_type": "stream",
     "text": [
      "There are 255 missing values in df_energy\n",
      "There are 0 duplicate rows in df_energy based on all columns\n"
     ]
    }
   ],
   "source": [
    "# Find NaNs and duplicates in df_energy\n",
    "\n",
    "print(f\"There are {df_energy.isnull().values.sum()} missing values in df_energy\")\n",
    "\n",
    "temp_energy = df_energy.duplicated(keep = 'first').sum()\n",
    "print(f\"There are {temp_energy} duplicate rows in df_energy based on all columns\")"
   ]
  },
  {
   "cell_type": "markdown",
   "id": "ce5f21fb",
   "metadata": {},
   "source": [
    "We can't drop rows with Nan values since we are using time series data, thus we will have to fill them using interpolation"
   ]
  },
  {
   "cell_type": "code",
   "execution_count": 117,
   "id": "8526253a",
   "metadata": {},
   "outputs": [
    {
     "data": {
      "text/plain": [
       "generation biomass                            19\n",
       "generation fossil gas                         18\n",
       "generation fossil hard coal                   18\n",
       "generation fossil oil                         19\n",
       "generation hydro run-of-river and poundage    19\n",
       "generation hydro water reservoir              18\n",
       "generation nuclear                            17\n",
       "generation other                              18\n",
       "generation other renewable                    18\n",
       "generation solar                              18\n",
       "generation waste                              19\n",
       "generation wind onshore                       18\n",
       "forecast solar day ahead                       0\n",
       "forecast wind onshore day ahead                0\n",
       "total load forecast                            0\n",
       "total load actual                             36\n",
       "price day ahead                                0\n",
       "price actual                                   0\n",
       "dtype: int64"
      ]
     },
     "execution_count": 117,
     "metadata": {},
     "output_type": "execute_result"
    }
   ],
   "source": [
    "# Find the number of NaNs in each column\n",
    "df_energy.isnull().sum(axis = 0)"
   ]
  },
  {
   "cell_type": "code",
   "execution_count": 118,
   "id": "f5d03aad",
   "metadata": {},
   "outputs": [],
   "source": [
    "# Fill null values using interpolation\n",
    "df_energy.interpolate(method = 'linear', limit_direction = 'forward', axis = 0, inplace = True)"
   ]
  },
  {
   "cell_type": "markdown",
   "id": "1bbc8163",
   "metadata": {},
   "source": [
    "Now that we have cleaned the energy dataset we can move analyze the correlation between the attributes"
   ]
  },
  {
   "cell_type": "code",
   "execution_count": 119,
   "id": "0d26efe7",
   "metadata": {},
   "outputs": [],
   "source": [
    "# Compute absolute correlation matrix\n",
    "corr_matrix = df_energy.corr(numeric_only = True).abs()\n",
    "\n",
    "plot_corr_matrix = False\n",
    "if plot_corr_matrix:\n",
    "    # Plot heatmap\n",
    "    plt.figure(figsize=(12, 8))\n",
    "    sns.heatmap(corr_matrix, annot=True, cmap='coolwarm', fmt=\".2f\", linewidths=0.5)\n",
    "    plt.title('Correlation Matrix', fontsize=18)\n",
    "    plt.show()"
   ]
  },
  {
   "cell_type": "code",
   "execution_count": 120,
   "id": "f5098c96",
   "metadata": {},
   "outputs": [
    {
     "name": "stdout",
     "output_type": "stream",
     "text": [
      "generation solar ↔ forecast solar day ahead : correlation = 0.99\n",
      "generation wind onshore ↔ forecast wind onshore day ahead : correlation = 0.99\n",
      "total load forecast ↔ total load actual : correlation = 1.00\n"
     ]
    }
   ],
   "source": [
    "# Set correlation threshold\n",
    "threshold = 0.85\n",
    "\n",
    "# Store correlated pairs\n",
    "correlated_pairs = []\n",
    "\n",
    "# Loop through upper triangle of correlation matrix\n",
    "for i in range(len(corr_matrix.columns)):\n",
    "    for j in range(i + 1, len(corr_matrix.columns)):\n",
    "        if corr_matrix.iloc[i, j] > threshold:\n",
    "            col1 = corr_matrix.columns[i]\n",
    "            col2 = corr_matrix.columns[j]\n",
    "            corr_value = corr_matrix.iloc[i, j]\n",
    "            correlated_pairs.append((col1, col2, corr_value))\n",
    "\n",
    "# Show results\n",
    "for col1, col2, corr_value in correlated_pairs:\n",
    "    print(f\"{col1} ↔ {col2} : correlation = {corr_value:.2f}\")"
   ]
  },
  {
   "cell_type": "code",
   "execution_count": 121,
   "id": "ca4c0fda",
   "metadata": {},
   "outputs": [],
   "source": [
    "# Drop the forecast attributes\n",
    "df_energy.drop(columns = [\"forecast solar day ahead\", \"forecast wind onshore day ahead\", \"total load forecast\"], inplace = True)"
   ]
  },
  {
   "cell_type": "markdown",
   "id": "5cfc4977",
   "metadata": {},
   "source": [
    "## Weather Data Cleaning"
   ]
  },
  {
   "cell_type": "code",
   "execution_count": 122,
   "id": "05630b3b",
   "metadata": {},
   "outputs": [
    {
     "data": {
      "text/html": [
       "<div>\n",
       "<style scoped>\n",
       "    .dataframe tbody tr th:only-of-type {\n",
       "        vertical-align: middle;\n",
       "    }\n",
       "\n",
       "    .dataframe tbody tr th {\n",
       "        vertical-align: top;\n",
       "    }\n",
       "\n",
       "    .dataframe thead th {\n",
       "        text-align: right;\n",
       "    }\n",
       "</style>\n",
       "<table border=\"1\" class=\"dataframe\">\n",
       "  <thead>\n",
       "    <tr style=\"text-align: right;\">\n",
       "      <th></th>\n",
       "      <th>temp</th>\n",
       "      <th>temp_min</th>\n",
       "      <th>temp_max</th>\n",
       "      <th>pressure</th>\n",
       "      <th>humidity</th>\n",
       "      <th>wind_speed</th>\n",
       "      <th>wind_deg</th>\n",
       "      <th>rain_1h</th>\n",
       "      <th>rain_3h</th>\n",
       "      <th>snow_3h</th>\n",
       "      <th>clouds_all</th>\n",
       "      <th>weather_id</th>\n",
       "    </tr>\n",
       "  </thead>\n",
       "  <tbody>\n",
       "    <tr>\n",
       "      <th>count</th>\n",
       "      <td>178396.00</td>\n",
       "      <td>178396.00</td>\n",
       "      <td>178396.00</td>\n",
       "      <td>178396.00</td>\n",
       "      <td>178396.00</td>\n",
       "      <td>178396.00</td>\n",
       "      <td>178396.00</td>\n",
       "      <td>178396.00</td>\n",
       "      <td>178396.00</td>\n",
       "      <td>178396.00</td>\n",
       "      <td>178396.00</td>\n",
       "      <td>178396.00</td>\n",
       "    </tr>\n",
       "    <tr>\n",
       "      <th>mean</th>\n",
       "      <td>289.62</td>\n",
       "      <td>288.33</td>\n",
       "      <td>291.09</td>\n",
       "      <td>1069.26</td>\n",
       "      <td>68.42</td>\n",
       "      <td>2.47</td>\n",
       "      <td>166.59</td>\n",
       "      <td>0.08</td>\n",
       "      <td>0.00</td>\n",
       "      <td>0.00</td>\n",
       "      <td>25.07</td>\n",
       "      <td>759.83</td>\n",
       "    </tr>\n",
       "    <tr>\n",
       "      <th>std</th>\n",
       "      <td>8.03</td>\n",
       "      <td>7.96</td>\n",
       "      <td>8.61</td>\n",
       "      <td>5969.63</td>\n",
       "      <td>21.90</td>\n",
       "      <td>2.10</td>\n",
       "      <td>116.61</td>\n",
       "      <td>0.40</td>\n",
       "      <td>0.01</td>\n",
       "      <td>0.22</td>\n",
       "      <td>30.77</td>\n",
       "      <td>108.73</td>\n",
       "    </tr>\n",
       "    <tr>\n",
       "      <th>min</th>\n",
       "      <td>262.24</td>\n",
       "      <td>262.24</td>\n",
       "      <td>262.24</td>\n",
       "      <td>0.00</td>\n",
       "      <td>0.00</td>\n",
       "      <td>0.00</td>\n",
       "      <td>0.00</td>\n",
       "      <td>0.00</td>\n",
       "      <td>0.00</td>\n",
       "      <td>0.00</td>\n",
       "      <td>0.00</td>\n",
       "      <td>200.00</td>\n",
       "    </tr>\n",
       "    <tr>\n",
       "      <th>25%</th>\n",
       "      <td>283.67</td>\n",
       "      <td>282.48</td>\n",
       "      <td>284.65</td>\n",
       "      <td>1013.00</td>\n",
       "      <td>53.00</td>\n",
       "      <td>1.00</td>\n",
       "      <td>55.00</td>\n",
       "      <td>0.00</td>\n",
       "      <td>0.00</td>\n",
       "      <td>0.00</td>\n",
       "      <td>0.00</td>\n",
       "      <td>800.00</td>\n",
       "    </tr>\n",
       "    <tr>\n",
       "      <th>50%</th>\n",
       "      <td>289.15</td>\n",
       "      <td>288.15</td>\n",
       "      <td>290.15</td>\n",
       "      <td>1018.00</td>\n",
       "      <td>72.00</td>\n",
       "      <td>2.00</td>\n",
       "      <td>177.00</td>\n",
       "      <td>0.00</td>\n",
       "      <td>0.00</td>\n",
       "      <td>0.00</td>\n",
       "      <td>20.00</td>\n",
       "      <td>800.00</td>\n",
       "    </tr>\n",
       "    <tr>\n",
       "      <th>75%</th>\n",
       "      <td>295.15</td>\n",
       "      <td>293.73</td>\n",
       "      <td>297.15</td>\n",
       "      <td>1022.00</td>\n",
       "      <td>87.00</td>\n",
       "      <td>4.00</td>\n",
       "      <td>270.00</td>\n",
       "      <td>0.00</td>\n",
       "      <td>0.00</td>\n",
       "      <td>0.00</td>\n",
       "      <td>40.00</td>\n",
       "      <td>801.00</td>\n",
       "    </tr>\n",
       "    <tr>\n",
       "      <th>max</th>\n",
       "      <td>315.60</td>\n",
       "      <td>315.15</td>\n",
       "      <td>321.15</td>\n",
       "      <td>1008371.00</td>\n",
       "      <td>100.00</td>\n",
       "      <td>133.00</td>\n",
       "      <td>360.00</td>\n",
       "      <td>12.00</td>\n",
       "      <td>2.32</td>\n",
       "      <td>21.50</td>\n",
       "      <td>100.00</td>\n",
       "      <td>804.00</td>\n",
       "    </tr>\n",
       "  </tbody>\n",
       "</table>\n",
       "</div>"
      ],
      "text/plain": [
       "            temp   temp_min   temp_max    pressure   humidity  wind_speed  \\\n",
       "count  178396.00  178396.00  178396.00   178396.00  178396.00   178396.00   \n",
       "mean      289.62     288.33     291.09     1069.26      68.42        2.47   \n",
       "std         8.03       7.96       8.61     5969.63      21.90        2.10   \n",
       "min       262.24     262.24     262.24        0.00       0.00        0.00   \n",
       "25%       283.67     282.48     284.65     1013.00      53.00        1.00   \n",
       "50%       289.15     288.15     290.15     1018.00      72.00        2.00   \n",
       "75%       295.15     293.73     297.15     1022.00      87.00        4.00   \n",
       "max       315.60     315.15     321.15  1008371.00     100.00      133.00   \n",
       "\n",
       "        wind_deg    rain_1h    rain_3h    snow_3h  clouds_all  weather_id  \n",
       "count  178396.00  178396.00  178396.00  178396.00   178396.00   178396.00  \n",
       "mean      166.59       0.08       0.00       0.00       25.07      759.83  \n",
       "std       116.61       0.40       0.01       0.22       30.77      108.73  \n",
       "min         0.00       0.00       0.00       0.00        0.00      200.00  \n",
       "25%        55.00       0.00       0.00       0.00        0.00      800.00  \n",
       "50%       177.00       0.00       0.00       0.00       20.00      800.00  \n",
       "75%       270.00       0.00       0.00       0.00       40.00      801.00  \n",
       "max       360.00      12.00       2.32      21.50      100.00      804.00  "
      ]
     },
     "execution_count": 122,
     "metadata": {},
     "output_type": "execute_result"
    }
   ],
   "source": [
    "df_weather.describe().round(2)"
   ]
  },
  {
   "cell_type": "markdown",
   "id": "da7a4779",
   "metadata": {},
   "source": [
    "We can identify the presence of outliers in pressure column since the max value is vary high and the min value is very low, and possibly there are outliers in wind_speed too since the max value is way higher than the 75th percentile. We will analyze these two attributes later to find out if these values are outliers or not"
   ]
  },
  {
   "cell_type": "code",
   "execution_count": 123,
   "id": "6668a562",
   "metadata": {},
   "outputs": [
    {
     "name": "stdout",
     "output_type": "stream",
     "text": [
      "Weather dataset shape: (178396, 17) \n",
      "Weather dataset attributes and their types: \n"
     ]
    },
    {
     "data": {
      "text/plain": [
       "dt_iso                  object\n",
       "city_name               object\n",
       "temp                   float64\n",
       "temp_min               float64\n",
       "temp_max               float64\n",
       "pressure                 int64\n",
       "humidity                 int64\n",
       "wind_speed               int64\n",
       "wind_deg                 int64\n",
       "rain_1h                float64\n",
       "rain_3h                float64\n",
       "snow_3h                float64\n",
       "clouds_all               int64\n",
       "weather_id               int64\n",
       "weather_main            object\n",
       "weather_description     object\n",
       "weather_icon            object\n",
       "dtype: object"
      ]
     },
     "execution_count": 123,
     "metadata": {},
     "output_type": "execute_result"
    }
   ],
   "source": [
    "print(f\"Weather dataset shape: {df_weather.shape} \\nWeather dataset attributes and their types: \")\n",
    "df_weather.dtypes"
   ]
  },
  {
   "cell_type": "markdown",
   "id": "888fca80",
   "metadata": {},
   "source": [
    "We notice the following:\n",
    "1. time (dt_iso) attribute wasn't properly parsed\n",
    "2. We have to turn int64 data into float64, this is required to find NaN values as they are specific to float, and to do interpolation if needed\n",
    "3. Some object type data attributes should be turned into numeric data"
   ]
  },
  {
   "cell_type": "code",
   "execution_count": 124,
   "id": "b4c14ca6",
   "metadata": {},
   "outputs": [],
   "source": [
    "# Rename dt_iso by time\n",
    "df_weather.rename(columns = {'dt_iso': 'time'}, inplace = True)"
   ]
  },
  {
   "cell_type": "code",
   "execution_count": 125,
   "id": "c5501a19",
   "metadata": {},
   "outputs": [],
   "source": [
    "# Turn all attributes of type int64 into float64\n",
    "df_weather = df_weather.astype({col: 'float64' for col in df_weather.select_dtypes(include=['int64']).columns})"
   ]
  },
  {
   "cell_type": "code",
   "execution_count": 126,
   "id": "de3b6667",
   "metadata": {},
   "outputs": [],
   "source": [
    "# Drop weather_icon column since it is irrelevant for our work\n",
    "df_weather.drop(columns = [\"weather_icon\"], inplace = True)"
   ]
  },
  {
   "cell_type": "code",
   "execution_count": 127,
   "id": "e7c756cd",
   "metadata": {},
   "outputs": [
    {
     "name": "stdout",
     "output_type": "stream",
     "text": [
      "There are 0 missing values in the weather dataset\n"
     ]
    }
   ],
   "source": [
    "# Find the number of NaNs in each column\n",
    "print(f\"There are {sum(df_weather.isnull().sum(axis = 0))} missing values in the weather dataset\")"
   ]
  },
  {
   "cell_type": "markdown",
   "id": "c187caf4",
   "metadata": {},
   "source": [
    "Remove outliers, and recompute their values using interpolation"
   ]
  },
  {
   "cell_type": "code",
   "execution_count": 128,
   "id": "fec033a8",
   "metadata": {},
   "outputs": [
    {
     "data": {
      "image/png": "[encoded data removed]",
      "text/plain": [
       "<Figure size 640x480 with 1 Axes>"
      ]
     },
     "metadata": {},
     "output_type": "display_data"
    }
   ],
   "source": [
    "# Check for outliers in pressure column\n",
    "sns.boxplot(x = df_weather[\"pressure\"])\n",
    "plt.show()"
   ]
  },
  {
   "cell_type": "code",
   "execution_count": 129,
   "id": "8977979e",
   "metadata": {},
   "outputs": [],
   "source": [
    "# Replace outliers in pressure with NaNs\n",
    "df_weather.loc[df_weather.pressure > 1051, \"pressure\"] = np.nan\n",
    "df_weather.loc[df_weather.pressure < 931, \"pressure\"] = np.nan"
   ]
  },
  {
   "cell_type": "code",
   "execution_count": 130,
   "id": "e5c24ee0",
   "metadata": {},
   "outputs": [
    {
     "data": {
      "image/png": "[encoded data removed]",
      "text/plain": [
       "<Figure size 640x480 with 1 Axes>"
      ]
     },
     "metadata": {},
     "output_type": "display_data"
    }
   ],
   "source": [
    "# Check for outliers in pressure column after the update \n",
    "sns.boxplot(x = df_weather[\"pressure\"])\n",
    "plt.show()"
   ]
  },
  {
   "cell_type": "code",
   "execution_count": 131,
   "id": "c593d8f6",
   "metadata": {},
   "outputs": [
    {
     "data": {
      "image/png": "[encoded data removed]",
      "text/plain": [
       "<Figure size 640x480 with 1 Axes>"
      ]
     },
     "metadata": {},
     "output_type": "display_data"
    }
   ],
   "source": [
    "# Check for outliers in wind_speed column\n",
    "sns.boxplot(x = df_weather[\"wind_speed\"])\n",
    "plt.show()"
   ]
  },
  {
   "cell_type": "code",
   "execution_count": 132,
   "id": "f1c1c2d9",
   "metadata": {},
   "outputs": [],
   "source": [
    "# Replace outliers in wind_speed with NaNs\n",
    "df_weather.loc[df_weather.wind_speed > 50, \"wind_speed\"] = np.nan"
   ]
  },
  {
   "cell_type": "code",
   "execution_count": 133,
   "id": "a9f5786c",
   "metadata": {},
   "outputs": [
    {
     "data": {
      "image/png": "[encoded data removed]",
      "text/plain": [
       "<Figure size 640x480 with 1 Axes>"
      ]
     },
     "metadata": {},
     "output_type": "display_data"
    }
   ],
   "source": [
    "# Check for outliers in wind_speed column after the update\n",
    "sns.boxplot(x = df_weather[\"wind_speed\"])\n",
    "plt.show()"
   ]
  },
  {
   "cell_type": "markdown",
   "id": "2df3c8c0",
   "metadata": {},
   "source": [
    "Now that we removed the outliers, we can replace their previous values with interpolations"
   ]
  },
  {
   "cell_type": "code",
   "execution_count": 134,
   "id": "08548a75",
   "metadata": {},
   "outputs": [
    {
     "name": "stderr",
     "output_type": "stream",
     "text": [
      "C:\\Users\\oussa\\AppData\\Local\\Temp\\ipykernel_26000\\1724543761.py:2: FutureWarning: DataFrame.interpolate with object dtype is deprecated and will raise in a future version. Call obj.infer_objects(copy=False) before interpolating instead.\n",
      "  df_weather.interpolate(method = 'linear', limit_direction = 'forward', axis = 0, inplace = True)\n"
     ]
    }
   ],
   "source": [
    "# Fill null values using interpolation\n",
    "df_weather.interpolate(method = 'linear', limit_direction = 'forward', axis = 0, inplace = True)"
   ]
  },
  {
   "cell_type": "markdown",
   "id": "7846c2c6",
   "metadata": {},
   "source": [
    "All outliers cleared. Next we can look for duplicates and remove them if there are any. \\\n",
    "A duplicate is a row with the same (time, city_name) attributes as another row even if they have different values on the other attributes."
   ]
  },
  {
   "cell_type": "code",
   "execution_count": 135,
   "id": "d2f2b50b",
   "metadata": {},
   "outputs": [
    {
     "name": "stdout",
     "output_type": "stream",
     "text": [
      "There are 0 missing values in df_weather\n",
      "There are 21 duplicate rows in df_weather based on all columns\n",
      "There are 3076 duplicate rows in df_weather based on ('time', 'city_name') columns\n"
     ]
    }
   ],
   "source": [
    "# Check for NaNs\n",
    "print(f\"There are {df_weather.isnull().values.sum()} missing values in df_weather\")\n",
    "\n",
    "# Count duplicates\n",
    "temp_energy = df_weather.duplicated(keep = 'first').sum()\n",
    "print(f\"There are {temp_energy} duplicate rows in df_weather based on all columns\")\n",
    "\n",
    "temp_energy = df_weather.duplicated(subset = ['time', 'city_name'], keep = 'first').sum()\n",
    "print(f\"There are {temp_energy} duplicate rows in df_weather based on ('time', 'city_name') columns\")\n",
    "\n",
    "# Drop duplicates (keep first occurrence)\n",
    "df_weather.drop_duplicates(subset = ['time', 'city_name'], keep = 'first', inplace = True)"
   ]
  },
  {
   "cell_type": "markdown",
   "id": "14cc9441",
   "metadata": {},
   "source": [
    "Now that we cleared duplicates we can set time as a dataset index"
   ]
  },
  {
   "cell_type": "code",
   "execution_count": 136,
   "id": "44209464",
   "metadata": {},
   "outputs": [],
   "source": [
    "# Turn time attribute into a dataset index\n",
    "df_weather['time'] = pd.to_datetime(df_weather['time'], utc = True)\n",
    "df_weather = df_weather.set_index('time')"
   ]
  },
  {
   "cell_type": "code",
   "execution_count": 137,
   "id": "fc1c55f8",
   "metadata": {},
   "outputs": [
    {
     "name": "stdout",
     "output_type": "stream",
     "text": [
      "There are 35064 observations in df_energy.\n",
      "There are 35064 observations in df_weather about city: Valencia.\n",
      "There are 35064 observations in df_weather about city: Madrid.\n",
      "There are 35064 observations in df_weather about city: Bilbao.\n",
      "There are 35064 observations in df_weather about city:  Barcelona.\n",
      "There are 35064 observations in df_weather about city: Seville.\n"
     ]
    }
   ],
   "source": [
    "# Display the number of rows in each dataframe\n",
    "print('There are {} observations in df_energy.'.format(df_energy.shape[0]))\n",
    "\n",
    "cities = df_weather['city_name'].unique()\n",
    "grouped_weather = df_weather.groupby('city_name')\n",
    "\n",
    "for city in cities:\n",
    "    print('There are {} observations in df_weather'\n",
    "          .format(grouped_weather.get_group('{}'.format(city)).shape[0]), \n",
    "          'about city: {}.'.format(city))"
   ]
  },
  {
   "cell_type": "markdown",
   "id": "e7b38036",
   "metadata": {},
   "source": [
    "Now we are ready to merge energy and weather datasets, but before that we should turn all object attributes of the weather dataset into numric attributes"
   ]
  },
  {
   "cell_type": "markdown",
   "id": "7de979a6",
   "metadata": {},
   "source": [
    "weather_main, weather_description and weather_icon attributes communicate the same information, we should determine which one of these columns to preserve and drop the other two."
   ]
  },
  {
   "cell_type": "code",
   "execution_count": 138,
   "id": "4473a6c9",
   "metadata": {},
   "outputs": [],
   "source": [
    "from sklearn.preprocessing import LabelEncoder"
   ]
  },
  {
   "cell_type": "code",
   "execution_count": 139,
   "id": "378a96c1",
   "metadata": {},
   "outputs": [
    {
     "name": "stdout",
     "output_type": "stream",
     "text": [
      "                     weather_id  weather_main  weather_description\n",
      "weather_id             1.000000     -0.878804             0.060279\n",
      "weather_main          -0.878804      1.000000            -0.306276\n",
      "weather_description    0.060279     -0.306276             1.000000\n"
     ]
    }
   ],
   "source": [
    "le = LabelEncoder()\n",
    "corr_matrix = pd.DataFrame({\n",
    "    'weather_id': le.fit_transform(df_weather['weather_id']),\n",
    "    'weather_main': le.fit_transform(df_weather['weather_main']),\n",
    "    'weather_description': le.fit_transform(df_weather['weather_description'])\n",
    "}).corr()\n",
    "\n",
    "print(corr_matrix)"
   ]
  },
  {
   "cell_type": "markdown",
   "id": "db8cb4b0",
   "metadata": {},
   "source": [
    "weather_id and weather_main are highly correlated, we will drop weather_id and keep weather_main"
   ]
  },
  {
   "cell_type": "code",
   "execution_count": 140,
   "id": "951a4fce",
   "metadata": {},
   "outputs": [],
   "source": [
    "df_weather.drop(columns = [\"weather_id\"], inplace = True)"
   ]
  },
  {
   "cell_type": "markdown",
   "id": "7ae47f56",
   "metadata": {},
   "source": [
    "We will use Label Encoding to turn weather_main and weather_description into numeric data"
   ]
  },
  {
   "cell_type": "code",
   "execution_count": 141,
   "id": "943bf3e1",
   "metadata": {},
   "outputs": [],
   "source": [
    "le_main = LabelEncoder()\n",
    "df_weather['weather_main'] = le_main.fit_transform(df_weather['weather_main'])\n",
    "\n",
    "le_desc = LabelEncoder()\n",
    "df_weather['weather_description'] = le_desc.fit_transform(df_weather['weather_description'])"
   ]
  },
  {
   "cell_type": "markdown",
   "id": "c8c79a53",
   "metadata": {},
   "source": [
    "Let's see the correlation between the attributes of the weather dataset "
   ]
  },
  {
   "cell_type": "code",
   "execution_count": 142,
   "id": "0460a1da",
   "metadata": {},
   "outputs": [],
   "source": [
    "# Compute absolute correlation matrix\n",
    "corr_matrix = df_weather.corr(numeric_only=True).abs()\n",
    "\n",
    "plot_corr_matrix = False\n",
    "if plot_corr_matrix:\n",
    "    # Plot heatmap\n",
    "    plt.figure(figsize=(12, 8))\n",
    "    sns.heatmap(corr_matrix, annot=True, cmap='coolwarm', fmt=\".2f\", linewidths=0.5)\n",
    "    plt.title('Correlation Matrix', fontsize=18)\n",
    "    plt.show()"
   ]
  },
  {
   "cell_type": "code",
   "execution_count": 143,
   "id": "8ea5f8f9",
   "metadata": {},
   "outputs": [
    {
     "name": "stdout",
     "output_type": "stream",
     "text": [
      "temp ↔ temp_min : correlation = 0.97\n",
      "temp ↔ temp_max : correlation = 0.97\n",
      "temp_min ↔ temp_max : correlation = 0.89\n"
     ]
    }
   ],
   "source": [
    "# Set correlation threshold\n",
    "threshold = 0.85\n",
    "\n",
    "# Store correlated pairs\n",
    "correlated_pairs = []\n",
    "\n",
    "# Loop through upper triangle of correlation matrix\n",
    "for i in range(len(corr_matrix.columns)):\n",
    "    for j in range(i + 1, len(corr_matrix.columns)):\n",
    "        if corr_matrix.iloc[i, j] > threshold:\n",
    "            col1 = corr_matrix.columns[i]\n",
    "            col2 = corr_matrix.columns[j]\n",
    "            corr_value = corr_matrix.iloc[i, j]\n",
    "            correlated_pairs.append((col1, col2, corr_value))\n",
    "\n",
    "# Show results\n",
    "for col1, col2, corr_value in correlated_pairs:\n",
    "    print(f\"{col1} ↔ {col2} : correlation = {corr_value:.2f}\")"
   ]
  },
  {
   "cell_type": "code",
   "execution_count": 144,
   "id": "e2e0b768",
   "metadata": {},
   "outputs": [],
   "source": [
    "# Drop temp_min and temp_max attributes\n",
    "df_weather.drop(columns = [\"temp_min\", \"temp_max\"], inplace = True)"
   ]
  },
  {
   "cell_type": "markdown",
   "id": "25eee62d",
   "metadata": {},
   "source": [
    "## Merge energy and weather datasets"
   ]
  },
  {
   "cell_type": "markdown",
   "id": "20385919",
   "metadata": {},
   "source": [
    "First of all we split the weather dataset into five separate datasets each for one of the five cities we have"
   ]
  },
  {
   "cell_type": "code",
   "execution_count": 145,
   "id": "dd2d8226",
   "metadata": {},
   "outputs": [],
   "source": [
    "df_w_1, df_w_2, df_w_3, df_w_4, df_w_5 = [x for _, x in df_weather.groupby('city_name')]\n",
    "dfs = [df_w_1, df_w_2, df_w_3, df_w_4, df_w_5]"
   ]
  },
  {
   "cell_type": "code",
   "execution_count": 146,
   "id": "09b0dcd3",
   "metadata": {},
   "outputs": [],
   "source": [
    "# Merge all dataframes into the final dataframe (df_final)\n",
    "df_final = df_energy\n",
    "\n",
    "for df in dfs:\n",
    "    city = df['city_name'].unique()\n",
    "    city_str = str(city).replace(\"'\", \"\").replace('[', '').replace(']', '').replace(' ', '')\n",
    "    df = df.add_suffix('_{}'.format(city_str))\n",
    "    df_final = df_final.merge(df, on = ['time'], how = 'outer')\n",
    "    df_final = df_final.drop(f\"city_name_{city_str}\", axis=1)"
   ]
  },
  {
   "cell_type": "code",
   "execution_count": 147,
   "id": "59989010",
   "metadata": {},
   "outputs": [
    {
     "name": "stdout",
     "output_type": "stream",
     "text": [
      "There are 0 missing values or NaNs in df_final.\n",
      "There are 0 duplicate rows in df_energy based on all columns.\n"
     ]
    }
   ],
   "source": [
    "# Display the number of NaNs and duplicates in the final dataframe\n",
    "\n",
    "print(f\"There are {df_final.isnull().values.sum()} missing values or NaNs in df_final.\")\n",
    "\n",
    "temp_final = df_final.duplicated(keep = 'first').sum()\n",
    "print(f\"There are {temp_final} duplicate rows in df_energy based on all columns.\")"
   ]
  },
  {
   "cell_type": "code",
   "execution_count": 1,
   "id": "513823f4",
   "metadata": {},
   "outputs": [],
   "source": [
    "# Save the final dataframe\n",
    "if False:\n",
    "    df_final.to_csv('./data/final_dataset.csv', index = True) # (index = True) is used to conserve time attribute although it is considered as an index "
   ]
  }
 ],
 "metadata": {
  "kernelspec": {
   "display_name": "Python 3",
   "language": "python",
   "name": "python3"
  },
  "language_info": {
   "codemirror_mode": {
    "name": "ipython",
    "version": 3
   },
   "file_extension": ".py",
   "mimetype": "text/x-python",
   "name": "python",
   "nbconvert_exporter": "python",
   "pygments_lexer": "ipython3",
   "version": "3.12.1"
  }
 },
 "nbformat": 4,
 "nbformat_minor": 5
}
